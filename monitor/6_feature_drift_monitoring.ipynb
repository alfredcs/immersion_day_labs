{
 "cells": [
  {
   "cell_type": "markdown",
   "metadata": {},
   "source": [
    "# Module 6: Feature Drift Monitoring\n",
    "**This notebook leverages AWS Glue DataBrew to implement Feature drfiting Monitoring of Offline Feature Groups.**\n",
    "\n",
    "**Note:** Please set kernel to `Python 3 (Data Science)` and select instance to `ml.t3.medium`\n",
    "\n",
    "\n",
    "---\n",
    "\n",
    "## Contents\n",
    "\n",
    "1. [Overview](##Overview)\n",
    "2. [Feature Group Monitoring Preparation](#Feature-Group-Monitoring-Preparation)\n",
    "3. [Run Feature Group Monitoring using DataBrew Profile Job](#Run-Feature-Group-Monitoring-using-DataBrew-Profile-Job)\n",
    "4. [Visualisation of Feature Group statistics](#Visualisation-of-Feature-Group-statistics)\n",
    "5. [Clean up](#Clean-Up)\n",
    "\n"
   ]
  },
  {
   "cell_type": "markdown",
   "metadata": {},
   "source": [
    "## Overview\n",
    "\n",
    "In previous module (`Module-1 Introduction to SageMaker Feature Store`), we demonstrated how to create multiple features groups inside a Amazon SageMaker Feature Store and ingest data into it.\n",
    "\n",
    "In this notebook, we will illustrate how to implement feature monitoring using AWS Glue DataBrew to create feature statistics.\n",
    "\n",
    "[AWS Glue DataBrew](https://aws.amazon.com/glue/features/databrew/) is a visual data preparation tool that helps you clean and normalize data without writing code. DataBrew also allows customers to specify which data quality statistics to auto-generate for datasets when running a profile job. This allows users to customize data profile statistics such as determining duplicate values, correlations, and outliers based on the nature and size of their datasets, and create a custom data profile overview with only the statistics that meet their needs.\n",
    "\n",
    "We will cover the following aspects:\n",
    "\n",
    "* Preparation step to Feature Monitoring\n",
    "* Executing Feature Monitoring using a DataBrew Profile job to generate statistics for a feature group\n",
    "* Extract statistics from profile job execution and persist to S3\n",
    "* Additional visualisation of the feature group statistics\n",
    "\n",
    "![Feature Monitoring Architecture](./images/feature_monitoring_architecture.png \"Feature Monitoring Architecture\")\n",
    "---"
   ]
  },
  {
   "cell_type": "markdown",
   "metadata": {},
   "source": [
    "## Prerequisites"
   ]
  },
  {
   "cell_type": "markdown",
   "metadata": {},
   "source": [
    "Before continuing with this module, you need to have run `Module-1 Introduction to SageMaker Feature Store`."
   ]
  },
  {
   "cell_type": "markdown",
   "metadata": {},
   "source": [
    "## Setup"
   ]
  },
  {
   "cell_type": "markdown",
   "metadata": {},
   "source": [
    "#### Imports"
   ]
  },
  {
   "cell_type": "code",
   "execution_count": 40,
   "metadata": {},
   "outputs": [],
   "source": [
    "%%capture\n",
    "!pip install pyathena"
   ]
  },
  {
   "cell_type": "code",
   "execution_count": 17,
   "metadata": {},
   "outputs": [],
   "source": [
    "from sagemaker.feature_store.feature_group import FeatureGroup\n",
    "from sagemaker import get_execution_role\n",
    "import sagemaker\n",
    "import logging\n",
    "import boto3\n",
    "import pandas as pd\n",
    "import time\n",
    "import re\n",
    "import os\n",
    "import sys\n",
    "from IPython.display import display, Markdown\n",
    "from time import gmtime, strftime\n",
    "\n",
    "#module containing utility functions for this notebook\n",
    "import utils.feature_monitoring_utils as feature_monitoring_utils"
   ]
  },
  {
   "cell_type": "code",
   "execution_count": 18,
   "metadata": {},
   "outputs": [
    {
     "name": "stderr",
     "output_type": "stream",
     "text": [
      "Using SageMaker version: 2.72.2\n",
      "Using SageMaker version: 2.72.2\n",
      "Using SageMaker version: 2.72.2\n"
     ]
    }
   ],
   "source": [
    "logger = logging.getLogger('__name__')\n",
    "logger.setLevel(logging.DEBUG)\n",
    "logger.addHandler(logging.StreamHandler())\n",
    "logger.info(f'Using SageMaker version: {sagemaker.__version__}')"
   ]
  },
  {
   "cell_type": "markdown",
   "metadata": {},
   "source": [
    "#### Retrieve Feature Group"
   ]
  },
  {
   "cell_type": "markdown",
   "metadata": {},
   "source": [
    "In this notebook, we will be using and monitoring the orders feature group created in Module 1 of the workshop. In case you would like to use a different feature group, please uncomment and replace **ORDERS_FEATURE_GROUP_NAME** with the name of your Orders Feature Group. "
   ]
  },
  {
   "cell_type": "code",
   "execution_count": 19,
   "metadata": {},
   "outputs": [
    {
     "name": "stdout",
     "output_type": "stream",
     "text": [
      "{\n",
      "    \"FeatureGroupSummaries\": [\n",
      "        {\n",
      "            \"FeatureGroupName\": \"alfab3-products-11-29-20-15\",\n",
      "            \"FeatureGroupArn\": \"arn:aws:sagemaker:us-west-2:976939723775:feature-group/alfab3-products-11-29-20-15\",\n",
      "            \"CreationTime\": 1638217197.957,\n",
      "            \"FeatureGroupStatus\": \"Created\",\n",
      "            \"OfflineStoreStatus\": {\n",
      "                \"Status\": \"Active\"\n",
      "            }\n",
      "        },\n",
      "        {\n",
      "            \"FeatureGroupName\": \"alfab3-products-01-11-21-31\",\n",
      "            \"FeatureGroupArn\": \"arn:aws:sagemaker:us-west-2:976939723775:feature-group/alfab3-products-01-11-21-31\",\n",
      "            \"CreationTime\": 1641937349.556,\n",
      "            \"FeatureGroupStatus\": \"Created\",\n",
      "            \"OfflineStoreStatus\": {\n",
      "                \"Status\": \"Active\"\n",
      "            }\n",
      "        },\n",
      "        {\n",
      "            \"FeatureGroupName\": \"alfab3-orders-11-29-20-15\",\n",
      "            \"FeatureGroupArn\": \"arn:aws:sagemaker:us-west-2:976939723775:feature-group/alfab3-orders-11-29-20-15\",\n",
      "            \"CreationTime\": 1640241897.678,\n",
      "            \"FeatureGroupStatus\": \"Created\",\n",
      "            \"OfflineStoreStatus\": {\n",
      "                \"Status\": \"Active\"\n",
      "            }\n",
      "        },\n",
      "        {\n",
      "            \"FeatureGroupName\": \"alfab3-orders-01-11-21-31\",\n",
      "            \"FeatureGroupArn\": \"arn:aws:sagemaker:us-west-2:976939723775:feature-group/alfab3-orders-01-11-21-31\",\n",
      "            \"CreationTime\": 1641937381.142,\n",
      "            \"FeatureGroupStatus\": \"Created\",\n",
      "            \"OfflineStoreStatus\": {\n",
      "                \"Status\": \"Active\"\n",
      "            }\n",
      "        },\n",
      "        {\n",
      "            \"FeatureGroupName\": \"alfab3-online-orders-12-20-21-14\",\n",
      "            \"FeatureGroupArn\": \"arn:aws:sagemaker:us-west-2:976939723775:feature-group/alfab3-online-orders-12-20-21-14\",\n",
      "            \"CreationTime\": 1640035110.312,\n",
      "            \"FeatureGroupStatus\": \"Created\",\n",
      "            \"OfflineStoreStatus\": {\n",
      "                \"Status\": \"Active\"\n",
      "            }\n",
      "        },\n",
      "        {\n",
      "            \"FeatureGroupName\": \"alfab3-customers-11-29-20-15\",\n",
      "            \"FeatureGroupArn\": \"arn:aws:sagemaker:us-west-2:976939723775:feature-group/alfab3-customers-11-29-20-15\",\n",
      "            \"CreationTime\": 1638217083.774,\n",
      "            \"FeatureGroupStatus\": \"Created\",\n",
      "            \"OfflineStoreStatus\": {\n",
      "                \"Status\": \"Active\"\n",
      "            }\n",
      "        },\n",
      "        {\n",
      "            \"FeatureGroupName\": \"alfab3-customers-01-11-21-31\",\n",
      "            \"FeatureGroupArn\": \"arn:aws:sagemaker:us-west-2:976939723775:feature-group/alfab3-customers-01-11-21-31\",\n",
      "            \"CreationTime\": 1641937117.941,\n",
      "            \"FeatureGroupStatus\": \"Created\",\n",
      "            \"OfflineStoreStatus\": {\n",
      "                \"Status\": \"Active\"\n",
      "            }\n",
      "        }\n",
      "    ]\n",
      "}\n"
     ]
    }
   ],
   "source": [
    "!aws sagemaker list-feature-groups\n",
    "#orders_feature_group_name = \"alfab3-orders-11-29-20-15\"\n",
    "#customers_feature_group_name = \"alfab3-customers-11-29-20-15\"\n",
    "#%store orders_feature_group_name\n",
    "#%store customers_feature_group_name"
   ]
  },
  {
   "cell_type": "code",
   "execution_count": 20,
   "metadata": {},
   "outputs": [],
   "source": [
    "# Need to retreive FG names from previous FSCW notebooks\n",
    "# Retreive FG names\n",
    "%store -r orders_feature_group_name\n",
    "%store -r customers_feature_group_name\n",
    "#orders_feature_group_name = \"<ORDERS_FEATURE_GROUP_NAME>\"\n",
    "\n",
    "# Set up the results bucket location\n",
    "results_bucket=sagemaker.Session().default_bucket() # You might change this for a different s3 bucket\n",
    "results_key='aws-databrew-results/Offline-FS'"
   ]
  },
  {
   "cell_type": "code",
   "execution_count": 22,
   "metadata": {},
   "outputs": [
    {
     "data": {
      "text/plain": [
       "'alfab3-customers-01-11-21-31'"
      ]
     },
     "execution_count": 22,
     "metadata": {},
     "output_type": "execute_result"
    }
   ],
   "source": [
    "customers_feature_group_name"
   ]
  },
  {
   "cell_type": "markdown",
   "metadata": {
    "tags": []
   },
   "source": [
    "#### Update SageMaker Studio execution role \n",
    "If you are running this notebook in Amazon SageMaker Studio, the IAM role assumed by your Studio user needs permission to perform Glue and DataBrew operations. To provide this permission to the role, do the following.\n",
    "\n",
    "1. Open the [Amazon SageMaker console](https://console.aws.amazon.com/sagemaker/).\n",
    "2. Select Amazon SageMaker Studio and choose your user name.\n",
    "3. Under **User summary**, copy just the name part of the execution role ARN \n",
    "5. Go to the [IAM console](https://console.aws.amazon.com/iam) and click on **Roles**. \n",
    "6. Find the role associated with your SageMaker Studio user\n",
    "7. Under the Permissions tab, click **Attach policies** and add the following: **AWSGlueServiceRole**, **AWSGlueDataBrewFullAccessPolicy**, **AmazonAthenaFullAccess**\n",
    "8. Under Trust relationships, click **Edit trust relationship** and add the following JSON,\n",
    "```\n",
    "{\n",
    "  \"Version\": \"2012-10-17\",\n",
    "  \"Statement\": [\n",
    "    {\n",
    "      \"Effect\": \"Allow\",\n",
    "      \"Principal\": {\n",
    "        \"Service\": \"sagemaker.amazonaws.com\"\n",
    "      },\n",
    "      \"Action\": \"sts:AssumeRole\"\n",
    "    },\n",
    "    {\n",
    "      \"Effect\": \"Allow\",\n",
    "      \"Principal\": {\n",
    "        \"Service\": \"glue.amazonaws.com\"\n",
    "      },\n",
    "      \"Action\": \"sts:AssumeRole\"\n",
    "    },\n",
    "    {\n",
    "      \"Effect\": \"Allow\",\n",
    "      \"Principal\": {\n",
    "        \"Service\": \"databrew.amazonaws.com\"\n",
    "      },\n",
    "      \"Action\": \"sts:AssumeRole\"\n",
    "    }\n",
    "  ]\n",
    "}\n",
    "```\n",
    " "
   ]
  },
  {
   "cell_type": "markdown",
   "metadata": {},
   "source": [
    "## Feature Group Monitoring Preparation"
   ]
  },
  {
   "cell_type": "markdown",
   "metadata": {},
   "source": [
    "This function will execute a few steps to prepare the data before running DataBrew profiling job and generate statistics.\n",
    "\n",
    "* Create Snapshot of a Feature Group from Offline Feature Store (before creating using DataBrew profiling capability, we need to create a snapshot of the Feature from the Offline Feature Store which only keeps the latest version of a feature and removes records marked as to be deleted)\n",
    "* Crawl the Snapshot table (the newly created table needs to be crawled to be accessible by DataBrew. The following function will create an AWS Glue Crawler, start the crawler)\n",
    "* Create AWS Glue DataBrew dataset\n",
    "* Create AWS Glue DataBrew Profile Job"
   ]
  },
  {
   "cell_type": "code",
   "execution_count": 23,
   "metadata": {
    "tags": []
   },
   "outputs": [
    {
     "name": "stdout",
     "output_type": "stream",
     "text": [
      "Start crawling alfab3-orders-01-11-21-31-1641937381-ctas-temp-crawler.\n",
      "...........................................!\n",
      "\n",
      "{'AccountId': '976939723775', 'CreatedBy': 'arn:aws:iam::976939723775:user/mltest', 'CreateDate': datetime.datetime(2022, 1, 11, 22, 38, 11, 954000, tzinfo=tzlocal()), 'DatasetName': 'alfab3-orders-01-11-21-31-dataset', 'Name': 'alfab3-orders-01-11-21-31-profile-job', 'Type': 'PROFILE', 'LogSubscription': 'DISABLE', 'MaxCapacity': 5, 'MaxRetries': 0, 'Outputs': [{'Format': 'JSON', 'Location': {'Bucket': 'sagemaker-us-west-2-976939723775', 'Key': 'aws-databrew-results/Offline-FS-reports'}, 'Overwrite': False}], 'ResourceArn': 'arn:aws:databrew:us-west-2:976939723775:job/alfab3-orders-01-11-21-31-profile-job', 'RoleArn': 'arn:aws:iam::976939723775:role/service-role/AmazonSageMaker-ExecutionRole-20210317T133000', 'Timeout': 120, 'Tags': {}, 'JobSample': {'Mode': 'FULL_DATASET'}}\n"
     ]
    }
   ],
   "source": [
    "response_brew_prep = feature_monitoring_utils.feature_monitoring_prep(\n",
    "    orders_feature_group_name,\n",
    "    #customers_feature_group_name, \n",
    "    results_bucket, \n",
    "    results_key,\n",
    "    verbose = False\n",
    ")"
   ]
  },
  {
   "cell_type": "markdown",
   "metadata": {},
   "source": [
    "## Run Feature Group Monitoring using DataBrew Profile Job"
   ]
  },
  {
   "cell_type": "markdown",
   "metadata": {},
   "source": [
    "This section will run an AWS Glue DataBrew Profile (defined in the previous section)."
   ]
  },
  {
   "cell_type": "markdown",
   "metadata": {},
   "source": [
    "#### Launch DataBrew Profile Job"
   ]
  },
  {
   "cell_type": "code",
   "execution_count": 24,
   "metadata": {
    "tags": []
   },
   "outputs": [
    {
     "name": "stdout",
     "output_type": "stream",
     "text": [
      "Feature Group S3 URL: s3://sagemaker-us-west-2-976939723775/sagemaker-feature-store/976939723775/sagemaker/us-west-2/offline-store/alfab3-orders-01-11-21-31-1641937381\n",
      "Feature Group Table Name: alfab3-orders-01-11-21-31-1641937381\n",
      "Query:  CREATE TABLE \"sagemaker_featurestore\".\"alfab3-orders-01-11-21-31-1641937381-ctas-temp\" AS  SELECT *  FROM (SELECT *, row_number()       OVER (PARTITION BY order_id       ORDER BY event_time desc, api_invocation_time DESC, write_time DESC) AS row_num       FROM \"sagemaker_featurestore\".\"alfab3-orders-01-11-21-31-1641937381\")  WHERE row_num = 1 and NOT is_deleted \n",
      "CTAS table created successfully: alfab3-orders-01-11-21-31-1641937381-ctas-temp\n",
      "Running DataBrew Profiling Job\n",
      ".........................!\n",
      "\n"
     ]
    }
   ],
   "source": [
    "# Call the main profile execution function\n",
    "response_brew_job = feature_monitoring_utils.feature_monitoring_run(\n",
    "    orders_feature_group_name,\n",
    "    #customers_feature_group_name,\n",
    "    verbose=False\n",
    ")"
   ]
  },
  {
   "cell_type": "markdown",
   "metadata": {},
   "source": [
    "#### Retrieve Link to DataBrew Profile Job Visualizations"
   ]
  },
  {
   "cell_type": "markdown",
   "metadata": {},
   "source": [
    "Users can access the statistics for a particular job run using the AWS DataBrew Console UI.  The code below retrieves the URL link.\n",
    "![Feature Group Tag](./images/databrew_visualization.png \"DataBrew Visualization\")\n",
    "\n",
    "This link is also added as tag to the Feature Group (as per the picture below).\n",
    "\n",
    "![Feature Group Tag](./images/feature_group_tags.png \"Feature Group Tag\")\n"
   ]
  },
  {
   "cell_type": "code",
   "execution_count": 26,
   "metadata": {},
   "outputs": [
    {
     "name": "stdout",
     "output_type": "stream",
     "text": [
      "Report is available at the following S3 location:\n",
      "s3://sagemaker-us-west-2-976939723775/aws-databrew-results/Offline-FS-reports/alfab3-orders-01-11-21-31-dataset_5f6d9bc29eab2100f056c1abfccac021211b342521e98e7c9f5387443df8079b.json\n",
      "\n",
      "Please click on the link below to access visulizations in Glue DataBrew console:\n"
     ]
    },
    {
     "data": {
      "text/markdown": [
       "[DataBrew Profile Job Visualizations](https://us-west-2.console.aws.amazon.com/databrew/home?region=us-west-2#dataset-details?dataset=alfab3-orders-01-11-21-31-dataset&tab=profile-overview)"
      ],
      "text/plain": [
       "<IPython.core.display.Markdown object>"
      ]
     },
     "metadata": {},
     "output_type": "display_data"
    }
   ],
   "source": [
    "# Display the Report S3 location\n",
    "databrew_profile_console_url = response_brew_job[2]\n",
    "brew_results_s3 = response_brew_job[4]\n",
    "print(\"Report is available at the following S3 location:\\n\" + brew_results_s3 + \"\\n\")\n",
    "\n",
    "# Display the DataBrew link\n",
    "print(\"Please click on the link below to access visulizations in Glue DataBrew console:\")\n",
    "databrew_link = f'[DataBrew Profile Job Visualizations]({databrew_profile_console_url})'\n",
    "display(Markdown(databrew_link))"
   ]
  },
  {
   "cell_type": "markdown",
   "metadata": {},
   "source": [
    "### Ingest more rows into the feature group to simulate feature drift\n",
    "\n",
    "In order to see feature drift we simulate some data changes in the orders FG. The CSV file used for the ingestion was previously generated in 1st module.\n",
    "\n",
    "If the correspondent CSV file is not present at *../data/transformed/* folder, you will have to generate it by launching this notebook *m1_nb0_prepare_datasets.ipynb* from 1st module.\n",
    "\n",
    "If you want to simulate feature drift for another Feature Group you will need to customize this part and generate some changes to your data before launching the visualization section."
   ]
  },
  {
   "cell_type": "code",
   "execution_count": 32,
   "metadata": {},
   "outputs": [
    {
     "name": "stdout",
     "output_type": "stream",
     "text": [
      "Ingesting into the feature group alfab3-orders-01-11-21-31\n",
      "..............................!\n",
      "Feature Group S3 URL: s3://sagemaker-us-west-2-976939723775/sagemaker-feature-store/976939723775/sagemaker/us-west-2/offline-store/alfab3-orders-01-11-21-31-1641937381\n",
      "Feature Group Table Name: alfab3-orders-01-11-21-31-1641937381\n",
      "Query:  CREATE TABLE \"sagemaker_featurestore\".\"alfab3-orders-01-11-21-31-1641937381-ctas-temp\" AS  SELECT *  FROM (SELECT *, row_number()       OVER (PARTITION BY order_id       ORDER BY event_time desc, api_invocation_time DESC, write_time DESC) AS row_num       FROM \"sagemaker_featurestore\".\"alfab3-orders-01-11-21-31-1641937381\")  WHERE row_num = 1 and NOT is_deleted \n",
      "CTAS table created successfully: alfab3-orders-01-11-21-31-1641937381-ctas-temp\n",
      "Running DataBrew Profiling Job\n",
      ".........................!\n",
      "\n",
      "Ingesting into the feature group alfab3-orders-01-11-21-31\n",
      "..............................!\n",
      "Feature Group S3 URL: s3://sagemaker-us-west-2-976939723775/sagemaker-feature-store/976939723775/sagemaker/us-west-2/offline-store/alfab3-orders-01-11-21-31-1641937381\n",
      "Feature Group Table Name: alfab3-orders-01-11-21-31-1641937381\n",
      "Query:  CREATE TABLE \"sagemaker_featurestore\".\"alfab3-orders-01-11-21-31-1641937381-ctas-temp\" AS  SELECT *  FROM (SELECT *, row_number()       OVER (PARTITION BY order_id       ORDER BY event_time desc, api_invocation_time DESC, write_time DESC) AS row_num       FROM \"sagemaker_featurestore\".\"alfab3-orders-01-11-21-31-1641937381\")  WHERE row_num = 1 and NOT is_deleted \n",
      "CTAS table created successfully: alfab3-orders-01-11-21-31-1641937381-ctas-temp\n",
      "Running DataBrew Profiling Job\n",
      ".....................................!\n",
      "\n"
     ]
    }
   ],
   "source": [
    "# Provide the path to input CVS file\n",
    "# The first batch of simluted new orders\n",
    "#csv_path = './data/transformed/20211210190355.csv'\n",
    "# .. and the 2nd batch\n",
    "csv_path = './data/transformed/20211220210705.csv'\n",
    "\n",
    "orders_count = int(os.popen(f'wc -l {csv_path}').readline().split()[0]) - 1\n",
    "nbrows = 0\n",
    "nb_runs = 2 # Number of reports we want to generate\n",
    "nb_sample = int(orders_count*0.25/nb_runs)\n",
    "\n",
    "# Ingest rows and execute profile job\n",
    "for x in range(nb_runs):\n",
    "    nbrows = nbrows + nb_sample\n",
    "    # Ingest rows into FG from CSV file\n",
    "    feature_monitoring_utils.ingest_rows_fg(orders_feature_group_name, csv_path, nbrows=nbrows)\n",
    "    \n",
    "    # Call the main profile execution function\n",
    "    resp_job = feature_monitoring_utils.feature_monitoring_run(orders_feature_group_name, verbose=False)"
   ]
  },
  {
   "cell_type": "markdown",
   "metadata": {},
   "source": [
    "## Visualisation of Feature Group statistics"
   ]
  },
  {
   "cell_type": "markdown",
   "metadata": {},
   "source": [
    "### Overview\n",
    "\n",
    "The main goal of this notebook is to create visualizations of features and trends over time based on AWS Glue DataBrew quality statistics generated reports.\n",
    "\n",
    "### Main steps\n",
    "\n",
    "- Consolidate historic monitor reports, generates a data frame and save CSV files in S3\n",
    "- Visualization of features statistics over time\n"
   ]
  },
  {
   "cell_type": "markdown",
   "metadata": {},
   "source": [
    "#### Creates a Pandas dataframe from Json reports and write CSV files to S3\n",
    "\n",
    "These CVS files can be further used by other visualisation or BI tools"
   ]
  },
  {
   "cell_type": "code",
   "execution_count": 33,
   "metadata": {},
   "outputs": [
    {
     "name": "stdout",
     "output_type": "stream",
     "text": [
      "s3://sagemaker-us-west-2-976939723775/aws-databrew-results/Offline-FS-csv/alfab3-orders-01-11-21-31-01-12-06-05.csv\n"
     ]
    },
    {
     "data": {
      "text/html": [
       "<div>\n",
       "<style scoped>\n",
       "    .dataframe tbody tr th:only-of-type {\n",
       "        vertical-align: middle;\n",
       "    }\n",
       "\n",
       "    .dataframe tbody tr th {\n",
       "        vertical-align: top;\n",
       "    }\n",
       "\n",
       "    .dataframe thead th {\n",
       "        text-align: right;\n",
       "    }\n",
       "</style>\n",
       "<table border=\"1\" class=\"dataframe\">\n",
       "  <thead>\n",
       "    <tr style=\"text-align: right;\">\n",
       "      <th></th>\n",
       "      <th>name</th>\n",
       "      <th>type</th>\n",
       "      <th>distinctValuesCount</th>\n",
       "      <th>uniqueValuesCount</th>\n",
       "      <th>entropy</th>\n",
       "      <th>missingValuesCount</th>\n",
       "      <th>max</th>\n",
       "      <th>mean</th>\n",
       "      <th>min</th>\n",
       "      <th>standardDeviation</th>\n",
       "      <th>...</th>\n",
       "      <th>minimumValues</th>\n",
       "      <th>maximumValues</th>\n",
       "      <th>zScoreDistribution</th>\n",
       "      <th>medianAbsoluteDeviation</th>\n",
       "      <th>correlations.purchase_amount</th>\n",
       "      <th>correlations.is_reordered</th>\n",
       "      <th>correlations.review_headline</th>\n",
       "      <th>correlations.review_body</th>\n",
       "      <th>correlations.row_num</th>\n",
       "      <th>report_file</th>\n",
       "    </tr>\n",
       "    <tr>\n",
       "      <th>writtenOn</th>\n",
       "      <th></th>\n",
       "      <th></th>\n",
       "      <th></th>\n",
       "      <th></th>\n",
       "      <th></th>\n",
       "      <th></th>\n",
       "      <th></th>\n",
       "      <th></th>\n",
       "      <th></th>\n",
       "      <th></th>\n",
       "      <th></th>\n",
       "      <th></th>\n",
       "      <th></th>\n",
       "      <th></th>\n",
       "      <th></th>\n",
       "      <th></th>\n",
       "      <th></th>\n",
       "      <th></th>\n",
       "      <th></th>\n",
       "      <th></th>\n",
       "      <th></th>\n",
       "    </tr>\n",
       "  </thead>\n",
       "  <tbody>\n",
       "    <tr>\n",
       "      <th>2022-01-12 05:39:56.703173</th>\n",
       "      <td>event_time</td>\n",
       "      <td>string</td>\n",
       "      <td>88965.0</td>\n",
       "      <td>3.0</td>\n",
       "      <td>11.394158</td>\n",
       "      <td>0.0</td>\n",
       "      <td>24.0000</td>\n",
       "      <td>24.000000</td>\n",
       "      <td>24.0000</td>\n",
       "      <td>0.000000</td>\n",
       "      <td>...</td>\n",
       "      <td>NaN</td>\n",
       "      <td>NaN</td>\n",
       "      <td>NaN</td>\n",
       "      <td>NaN</td>\n",
       "      <td>NaN</td>\n",
       "      <td>NaN</td>\n",
       "      <td>NaN</td>\n",
       "      <td>NaN</td>\n",
       "      <td>NaN</td>\n",
       "      <td>alfab3-orders-01-11-21-31-dataset_5f6d9bc29eab...</td>\n",
       "    </tr>\n",
       "    <tr>\n",
       "      <th>2022-01-12 05:39:56.703173</th>\n",
       "      <td>review_body</td>\n",
       "      <td>double</td>\n",
       "      <td>9936.0</td>\n",
       "      <td>1.0</td>\n",
       "      <td>7.258438</td>\n",
       "      <td>44044.0</td>\n",
       "      <td>0.9977</td>\n",
       "      <td>0.447612</td>\n",
       "      <td>-0.9957</td>\n",
       "      <td>0.830161</td>\n",
       "      <td>...</td>\n",
       "      <td>[{'value': None, 'count': 44044}, {'value': -0...</td>\n",
       "      <td>[{'value': 0.9977, 'count': 27}, {'value': 0.9...</td>\n",
       "      <td>[{'bucket': ['-inf', -1.6185314055471758], 'co...</td>\n",
       "      <td>0.0163</td>\n",
       "      <td>-0.000052</td>\n",
       "      <td>-0.000089</td>\n",
       "      <td>0.424856</td>\n",
       "      <td>1.000000</td>\n",
       "      <td>0.0</td>\n",
       "      <td>alfab3-orders-01-11-21-31-dataset_5f6d9bc29eab...</td>\n",
       "    </tr>\n",
       "    <tr>\n",
       "      <th>2022-01-12 05:39:56.703173</th>\n",
       "      <td>review_headline</td>\n",
       "      <td>double</td>\n",
       "      <td>9888.0</td>\n",
       "      <td>344.0</td>\n",
       "      <td>4.469518</td>\n",
       "      <td>0.0</td>\n",
       "      <td>0.9999</td>\n",
       "      <td>0.493996</td>\n",
       "      <td>-0.9998</td>\n",
       "      <td>0.849485</td>\n",
       "      <td>...</td>\n",
       "      <td>[{'value': -0.9998, 'count': 37953}, {'value':...</td>\n",
       "      <td>[{'value': 0.9999, 'count': 210687}, {'value':...</td>\n",
       "      <td>[{'bucket': ['-inf', -1.6407711771206361], 'co...</td>\n",
       "      <td>0.0009</td>\n",
       "      <td>-0.001691</td>\n",
       "      <td>0.000212</td>\n",
       "      <td>1.000000</td>\n",
       "      <td>0.424856</td>\n",
       "      <td>0.0</td>\n",
       "      <td>alfab3-orders-01-11-21-31-dataset_5f6d9bc29eab...</td>\n",
       "    </tr>\n",
       "    <tr>\n",
       "      <th>2022-01-12 05:39:56.703173</th>\n",
       "      <td>is_deleted</td>\n",
       "      <td>boolean</td>\n",
       "      <td>1.0</td>\n",
       "      <td>0.0</td>\n",
       "      <td>0.000000</td>\n",
       "      <td>0.0</td>\n",
       "      <td>NaN</td>\n",
       "      <td>NaN</td>\n",
       "      <td>NaN</td>\n",
       "      <td>NaN</td>\n",
       "      <td>...</td>\n",
       "      <td>NaN</td>\n",
       "      <td>NaN</td>\n",
       "      <td>NaN</td>\n",
       "      <td>NaN</td>\n",
       "      <td>NaN</td>\n",
       "      <td>NaN</td>\n",
       "      <td>NaN</td>\n",
       "      <td>NaN</td>\n",
       "      <td>NaN</td>\n",
       "      <td>alfab3-orders-01-11-21-31-dataset_5f6d9bc29eab...</td>\n",
       "    </tr>\n",
       "    <tr>\n",
       "      <th>2022-01-12 05:39:56.703173</th>\n",
       "      <td>purchased_on</td>\n",
       "      <td>string</td>\n",
       "      <td>991036.0</td>\n",
       "      <td>982136.0</td>\n",
       "      <td>13.803050</td>\n",
       "      <td>0.0</td>\n",
       "      <td>19.0000</td>\n",
       "      <td>19.000000</td>\n",
       "      <td>19.0000</td>\n",
       "      <td>0.000000</td>\n",
       "      <td>...</td>\n",
       "      <td>NaN</td>\n",
       "      <td>NaN</td>\n",
       "      <td>NaN</td>\n",
       "      <td>NaN</td>\n",
       "      <td>NaN</td>\n",
       "      <td>NaN</td>\n",
       "      <td>NaN</td>\n",
       "      <td>NaN</td>\n",
       "      <td>NaN</td>\n",
       "      <td>alfab3-orders-01-11-21-31-dataset_5f6d9bc29eab...</td>\n",
       "    </tr>\n",
       "  </tbody>\n",
       "</table>\n",
       "<p>5 rows × 36 columns</p>\n",
       "</div>"
      ],
      "text/plain": [
       "                                       name     type  distinctValuesCount  \\\n",
       "writtenOn                                                                   \n",
       "2022-01-12 05:39:56.703173       event_time   string              88965.0   \n",
       "2022-01-12 05:39:56.703173      review_body   double               9936.0   \n",
       "2022-01-12 05:39:56.703173  review_headline   double               9888.0   \n",
       "2022-01-12 05:39:56.703173       is_deleted  boolean                  1.0   \n",
       "2022-01-12 05:39:56.703173     purchased_on   string             991036.0   \n",
       "\n",
       "                            uniqueValuesCount    entropy  missingValuesCount  \\\n",
       "writtenOn                                                                      \n",
       "2022-01-12 05:39:56.703173                3.0  11.394158                 0.0   \n",
       "2022-01-12 05:39:56.703173                1.0   7.258438             44044.0   \n",
       "2022-01-12 05:39:56.703173              344.0   4.469518                 0.0   \n",
       "2022-01-12 05:39:56.703173                0.0   0.000000                 0.0   \n",
       "2022-01-12 05:39:56.703173           982136.0  13.803050                 0.0   \n",
       "\n",
       "                                max       mean      min  standardDeviation  \\\n",
       "writtenOn                                                                    \n",
       "2022-01-12 05:39:56.703173  24.0000  24.000000  24.0000           0.000000   \n",
       "2022-01-12 05:39:56.703173   0.9977   0.447612  -0.9957           0.830161   \n",
       "2022-01-12 05:39:56.703173   0.9999   0.493996  -0.9998           0.849485   \n",
       "2022-01-12 05:39:56.703173      NaN        NaN      NaN                NaN   \n",
       "2022-01-12 05:39:56.703173  19.0000  19.000000  19.0000           0.000000   \n",
       "\n",
       "                            ...  \\\n",
       "writtenOn                   ...   \n",
       "2022-01-12 05:39:56.703173  ...   \n",
       "2022-01-12 05:39:56.703173  ...   \n",
       "2022-01-12 05:39:56.703173  ...   \n",
       "2022-01-12 05:39:56.703173  ...   \n",
       "2022-01-12 05:39:56.703173  ...   \n",
       "\n",
       "                                                                minimumValues  \\\n",
       "writtenOn                                                                       \n",
       "2022-01-12 05:39:56.703173                                                NaN   \n",
       "2022-01-12 05:39:56.703173  [{'value': None, 'count': 44044}, {'value': -0...   \n",
       "2022-01-12 05:39:56.703173  [{'value': -0.9998, 'count': 37953}, {'value':...   \n",
       "2022-01-12 05:39:56.703173                                                NaN   \n",
       "2022-01-12 05:39:56.703173                                                NaN   \n",
       "\n",
       "                                                                maximumValues  \\\n",
       "writtenOn                                                                       \n",
       "2022-01-12 05:39:56.703173                                                NaN   \n",
       "2022-01-12 05:39:56.703173  [{'value': 0.9977, 'count': 27}, {'value': 0.9...   \n",
       "2022-01-12 05:39:56.703173  [{'value': 0.9999, 'count': 210687}, {'value':...   \n",
       "2022-01-12 05:39:56.703173                                                NaN   \n",
       "2022-01-12 05:39:56.703173                                                NaN   \n",
       "\n",
       "                                                           zScoreDistribution  \\\n",
       "writtenOn                                                                       \n",
       "2022-01-12 05:39:56.703173                                                NaN   \n",
       "2022-01-12 05:39:56.703173  [{'bucket': ['-inf', -1.6185314055471758], 'co...   \n",
       "2022-01-12 05:39:56.703173  [{'bucket': ['-inf', -1.6407711771206361], 'co...   \n",
       "2022-01-12 05:39:56.703173                                                NaN   \n",
       "2022-01-12 05:39:56.703173                                                NaN   \n",
       "\n",
       "                            medianAbsoluteDeviation  \\\n",
       "writtenOn                                             \n",
       "2022-01-12 05:39:56.703173                      NaN   \n",
       "2022-01-12 05:39:56.703173                   0.0163   \n",
       "2022-01-12 05:39:56.703173                   0.0009   \n",
       "2022-01-12 05:39:56.703173                      NaN   \n",
       "2022-01-12 05:39:56.703173                      NaN   \n",
       "\n",
       "                           correlations.purchase_amount  \\\n",
       "writtenOn                                                 \n",
       "2022-01-12 05:39:56.703173                          NaN   \n",
       "2022-01-12 05:39:56.703173                    -0.000052   \n",
       "2022-01-12 05:39:56.703173                    -0.001691   \n",
       "2022-01-12 05:39:56.703173                          NaN   \n",
       "2022-01-12 05:39:56.703173                          NaN   \n",
       "\n",
       "                            correlations.is_reordered  \\\n",
       "writtenOn                                               \n",
       "2022-01-12 05:39:56.703173                        NaN   \n",
       "2022-01-12 05:39:56.703173                  -0.000089   \n",
       "2022-01-12 05:39:56.703173                   0.000212   \n",
       "2022-01-12 05:39:56.703173                        NaN   \n",
       "2022-01-12 05:39:56.703173                        NaN   \n",
       "\n",
       "                            correlations.review_headline  \\\n",
       "writtenOn                                                  \n",
       "2022-01-12 05:39:56.703173                           NaN   \n",
       "2022-01-12 05:39:56.703173                      0.424856   \n",
       "2022-01-12 05:39:56.703173                      1.000000   \n",
       "2022-01-12 05:39:56.703173                           NaN   \n",
       "2022-01-12 05:39:56.703173                           NaN   \n",
       "\n",
       "                            correlations.review_body  correlations.row_num  \\\n",
       "writtenOn                                                                    \n",
       "2022-01-12 05:39:56.703173                       NaN                   NaN   \n",
       "2022-01-12 05:39:56.703173                  1.000000                   0.0   \n",
       "2022-01-12 05:39:56.703173                  0.424856                   0.0   \n",
       "2022-01-12 05:39:56.703173                       NaN                   NaN   \n",
       "2022-01-12 05:39:56.703173                       NaN                   NaN   \n",
       "\n",
       "                                                                  report_file  \n",
       "writtenOn                                                                      \n",
       "2022-01-12 05:39:56.703173  alfab3-orders-01-11-21-31-dataset_5f6d9bc29eab...  \n",
       "2022-01-12 05:39:56.703173  alfab3-orders-01-11-21-31-dataset_5f6d9bc29eab...  \n",
       "2022-01-12 05:39:56.703173  alfab3-orders-01-11-21-31-dataset_5f6d9bc29eab...  \n",
       "2022-01-12 05:39:56.703173  alfab3-orders-01-11-21-31-dataset_5f6d9bc29eab...  \n",
       "2022-01-12 05:39:56.703173  alfab3-orders-01-11-21-31-dataset_5f6d9bc29eab...  \n",
       "\n",
       "[5 rows x 36 columns]"
      ]
     },
     "execution_count": 33,
     "metadata": {},
     "output_type": "execute_result"
    }
   ],
   "source": [
    "start_date = '20210701' # input('Insert Date as a form YYYYmmdd')\n",
    "\n",
    "# Creates a Pandas dataframe from Json reports and write CSV files to S3\n",
    "response_consolid = feature_monitoring_utils.consolidate_monitor_reports(\n",
    "    orders_feature_group_name, \n",
    "    results_bucket,\n",
    "    results_key,\n",
    "    start_date\n",
    ")\n",
    "\n",
    "analysis_data = response_consolid[0]\n",
    "consolidated_s3_file = response_consolid[2]\n",
    "print(consolidated_s3_file)\n",
    "analysis_data.head()"
   ]
  },
  {
   "cell_type": "markdown",
   "metadata": {},
   "source": [
    "#### Visualize the evolution in time for a particular feature"
   ]
  },
  {
   "cell_type": "markdown",
   "metadata": {},
   "source": [
    "**purchase_amount's entropy drift over time**"
   ]
  },
  {
   "cell_type": "code",
   "execution_count": 34,
   "metadata": {},
   "outputs": [
    {
     "data": {
      "image/png": "[encoded data removed]",
      "text/plain": [
       "<Figure size 792x288 with 1 Axes>"
      ]
     },
     "metadata": {
      "needs_background": "light"
     },
     "output_type": "display_data"
    }
   ],
   "source": [
    "feature_name = 'discount_offered_num'\n",
    "analysis_data_purchase_amount = feature_monitoring_utils.plot_profiling_data(\n",
    "    analysis_data, \n",
    "    feature_name, \n",
    "    ['entropy'], \n",
    "    kind='line'\n",
    ")"
   ]
  },
  {
   "cell_type": "markdown",
   "metadata": {},
   "source": [
    "**See two statistics (entropy and standardDeviation) for purchase_amount feature**\n",
    "\n",
    "**Separate plots**"
   ]
  },
  {
   "cell_type": "code",
   "execution_count": 35,
   "metadata": {},
   "outputs": [
    {
     "data": {
      "image/png": "[encoded data removed]",
      "text/plain": [
       "<Figure size 792x288 with 2 Axes>"
      ]
     },
     "metadata": {
      "needs_background": "light"
     },
     "output_type": "display_data"
    }
   ],
   "source": [
    "analysis_data_purchase_amount = feature_monitoring_utils.plot_profiling_data(\n",
    "    analysis_data, \n",
    "    feature_name, \n",
    "    ['entropy','standardDeviation'],\n",
    "    multiple_plots=True\n",
    ")"
   ]
  },
  {
   "cell_type": "markdown",
   "metadata": {},
   "source": [
    "**Same plot with different scales for each statistic**"
   ]
  },
  {
   "cell_type": "code",
   "execution_count": 36,
   "metadata": {},
   "outputs": [
    {
     "data": {
      "image/png": "[encoded data removed]",
      "text/plain": [
       "<Figure size 792x288 with 2 Axes>"
      ]
     },
     "metadata": {
      "needs_background": "light"
     },
     "output_type": "display_data"
    }
   ],
   "source": [
    "analysis_data_purchase_amount = feature_monitoring_utils.plot_profiling_data(\n",
    "    analysis_data, \n",
    "    feature_name, \n",
    "    ['entropy','standardDeviation']\n",
    ")"
   ]
  },
  {
   "cell_type": "markdown",
   "metadata": {},
   "source": [
    "**purchase_amount's entropy drift over time using a Bar Plot**"
   ]
  },
  {
   "cell_type": "markdown",
   "metadata": {},
   "source": [
    "## Clean up"
   ]
  },
  {
   "cell_type": "markdown",
   "metadata": {},
   "source": [
    "**This section ensures you delete all AWS resources that was created as part of this workshop**"
   ]
  },
  {
   "cell_type": "code",
   "execution_count": null,
   "metadata": {},
   "outputs": [],
   "source": [
    "# Clean up resources - crawler, DataBrew dataset, and profile job - as well as local analysis folder\n",
    "analysis_folder_name=response_consolid[4]\n",
    "\n",
    "response = feature_monitoring_utils.feature_monitoring_cleanup(\n",
    "    orders_feature_group_name, \n",
    "    analysis_folder_name\n",
    ")"
   ]
  },
  {
   "cell_type": "code",
   "execution_count": null,
   "metadata": {},
   "outputs": [],
   "source": []
  }
 ],
 "metadata": {
  "instance_type": "ml.t3.medium",
  "kernelspec": {
   "display_name": "Python 3",
   "language": "python",
   "name": "python3"
  },
  "language_info": {
   "codemirror_mode": {
    "name": "ipython",
    "version": 3
   },
   "file_extension": ".py",
   "mimetype": "text/x-python",
   "name": "python",
   "nbconvert_exporter": "python",
   "pygments_lexer": "ipython3",
   "version": "3.8.5"
  }
 },
 "nbformat": 4,
 "nbformat_minor": 4
}
