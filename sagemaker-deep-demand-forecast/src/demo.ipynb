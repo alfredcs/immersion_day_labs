{
 "cells": [
  {
   "cell_type": "markdown",
   "metadata": {},
   "source": [
    "**Jupyter Kernel**:\n",
    "\n",
    "* If you are in SageMaker Notebook instance, please make sure you are using **conda_mxnet_p36** kernel\n",
    "* If you are in SageMaker Studio, please make sure you are using **SageMaker JumpStart MXNet 1.0** kernel\n",
    "\n",
    "**Run All**: \n",
    "\n",
    "* If you are in SageMaker Notebook instance, you can *go to Cell tab -> Run All*\n",
    "* If you are in SageMaker Studio, you can *go to Run tab -> Run All Cells*"
   ]
  },
  {
   "cell_type": "markdown",
   "metadata": {},
   "source": [
    "## Deep Demand Forecasting Demo\n",
    "\n",
    "In this demo notebook, we can quickly send some data to an already deployed endpoint, get the response and visualize its results.\n",
    "\n",
    "**To see more details of end-to-end model training and deployement using SageMaker, please checkout `deep-demand-forecast.ipynb` notebook.**"
   ]
  },
  {
   "cell_type": "code",
   "execution_count": null,
   "metadata": {},
   "outputs": [],
   "source": [
    "import boto3\n",
    "import botocore\n",
    "import json\n",
    "import numpy as np\n",
    "from sagemaker.s3 import S3Downloader"
   ]
  },
  {
   "cell_type": "markdown",
   "metadata": {},
   "source": [
    "Here we setup a SageMaker runtime and download some historical electricity consumption data for predictions. Data taken from *Dua, D. and Graff, C. (2019). [UCI Machine Learning Repository](http://archive.ics.uci.edu/ml/index.php), Irvine, CA: University of California, School of Information and Computer Science*."
   ]
  },
  {
   "cell_type": "code",
   "execution_count": null,
   "metadata": {},
   "outputs": [],
   "source": [
    "DATASET_NAME = \"electricity\"\n",
    "NUM_TS = 321\n",
    "CONTEXT_LENGTH = 12\n",
    "PREDICTION_LENGTH = 6\n",
    "\n",
    "sagemaker_config = json.load(open(\"stack_outputs.json\"))\n",
    "config = botocore.config.Config(read_timeout=200)\n",
    "runtime = boto3.client(\"runtime.sagemaker\", config=config)\n",
    "\n",
    "original_data_bucket = \"sagemaker-solutions-prod-{}\".format(sagemaker_config[\"AWSRegion\"])\n",
    "original_data_prefix = \"sagemaker-deep-demand-forecast/data/{}\".format(DATASET_NAME)\n",
    "original_data = \"s3://{}/{}\".format(original_data_bucket, original_data_prefix)\n",
    "print(\"original data: \")\n",
    "S3Downloader.list(original_data)\n",
    "!mkdir -p raw_data\n",
    "!aws s3 cp --recursive $original_data raw_data"
   ]
  },
  {
   "cell_type": "markdown",
   "metadata": {},
   "source": [
    "Now, we quickly process our `raw_data` in a pandas dataframe"
   ]
  },
  {
   "cell_type": "code",
   "execution_count": null,
   "metadata": {},
   "outputs": [],
   "source": [
    "%run deep_demand_forecast/monitor.py"
   ]
  },
  {
   "cell_type": "code",
   "execution_count": null,
   "metadata": {},
   "outputs": [],
   "source": [
    "train_df, test_df = prepare_data(\"raw_data\")\n",
    "print(f\"raw train data shape {train_df.shape}, test data shape {test_df.shape}\")\n",
    "ts_col_names = [f\"ts_{i}\" for i in range(NUM_TS + 1)]\n",
    "train_df_viz, test_df_viz, selected_cols = create_data_viz(\n",
    "    train_df, test_df, CONTEXT_LENGTH, PREDICTION_LENGTH, num_sample_ts=11\n",
    ")\n",
    "train_df_viz.head()"
   ]
  },
  {
   "cell_type": "markdown",
   "metadata": {},
   "source": [
    "And we prepare our test data as json. Then, invoke our endpoint for getting some predictions"
   ]
  },
  {
   "cell_type": "code",
   "execution_count": null,
   "metadata": {},
   "outputs": [],
   "source": [
    "%%time\n",
    "num_train = train_df.shape[0] - 1\n",
    "test_data = {}\n",
    "test_data[\"target\"] = (\n",
    "    test_df.iloc[num_train : num_train + PREDICTION_LENGTH].set_index(\"time\").values.T.tolist()\n",
    ")\n",
    "test_data[\"start\"] = \"2014-05-26 19:00:00\"\n",
    "test_data[\"source\"] = []\n",
    "\n",
    "payload = json.dumps(test_data)\n",
    "response = runtime.invoke_endpoint(\n",
    "    EndpointName=sagemaker_config[\"SolutionPrefix\"] + \"-demo-endpoint\",\n",
    "    ContentType=\"application/json\",\n",
    "    Body=payload,\n",
    ")\n",
    "predictions = json.loads(response[\"Body\"].read().decode())"
   ]
  },
  {
   "cell_type": "markdown",
   "metadata": {},
   "source": [
    "Finally, we prepare the predictions for interactive visualization using [GluonTS API](https://ts.gluon.ai/) and [Altair](https://altair-viz.github.io/)"
   ]
  },
  {
   "cell_type": "code",
   "execution_count": null,
   "metadata": {},
   "outputs": [],
   "source": [
    "from gluonts.dataset.common import ListDataset\n",
    "from gluonts.dataset.field_names import FieldName\n",
    "\n",
    "forecasts = np.transpose(np.array(predictions[\"forecasts\"][\"samples\"][0]))\n",
    "preds = ListDataset(\n",
    "    [{FieldName.TARGET: forecasts, FieldName.START: predictions[\"forecasts\"][\"start_date\"]}],\n",
    "    freq=predictions[\"forecasts\"][\"freq\"],\n",
    "    one_dim_target=False,\n",
    ")\n",
    "\n",
    "preds_df = multivar_df(next(iter(preds)))\n",
    "preds_df_filter = preds_df.loc[:, [\"time\"] + selected_cols]\n",
    "preds_df_filter = pd.melt(preds_df_filter, id_vars=[\"time\"], value_vars=selected_cols)\n",
    "preds_df_filter.rename(columns={\"variable\": \"covariate\"}, inplace=True)\n",
    "preds_df_filter.head()"
   ]
  },
  {
   "cell_type": "code",
   "execution_count": null,
   "metadata": {},
   "outputs": [],
   "source": [
    "import altair as alt\n",
    "\n",
    "selection = alt.selection_multi(fields=[\"covariate\"], bind=\"legend\", nearest=True)\n",
    "preds_plot = (\n",
    "    alt.Chart(preds_df_filter, title=\"Predictions\")\n",
    "    .mark_line()\n",
    "    .encode(\n",
    "        alt.X(\"time:T\", axis=alt.Axis(title=\"Time\")),\n",
    "        alt.Y(\"value:Q\", axis=alt.Axis(title=\"Normalized electricity consumption (kW)\")),\n",
    "        alt.Color(\"covariate:N\"),\n",
    "        opacity=alt.condition(selection, alt.value(1), alt.value(0.1)),\n",
    "    )\n",
    "    .add_selection(selection)\n",
    ")\n",
    "\n",
    "preds_plot"
   ]
  },
  {
   "cell_type": "markdown",
   "metadata": {},
   "source": [
    "**To see more details of end-to-end model training and deployement using SageMaker, please checkout `deep-demand-forecast.ipynb` notebook.**"
   ]
  },
  {
   "cell_type": "code",
   "execution_count": null,
   "metadata": {},
   "outputs": [],
   "source": []
  }
 ],
 "metadata": {
  "kernelspec": {
   "display_name": "conda_mxnet_p36",
   "language": "python",
   "name": "conda_mxnet_p36"
  },
  "language_info": {
   "codemirror_mode": {
    "name": "ipython",
    "version": 3
   },
   "file_extension": ".py",
   "mimetype": "text/x-python",
   "name": "python",
   "nbconvert_exporter": "python",
   "pygments_lexer": "ipython3",
   "version": "3.6.10"
  }
 },
 "nbformat": 4,
 "nbformat_minor": 4
}
