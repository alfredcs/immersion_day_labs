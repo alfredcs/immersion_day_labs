{
 "cells": [
  {
   "cell_type": "markdown",
   "metadata": {},
   "source": [
    "## Module 9: Setup granular access control in AWS Lake Formation (for Offline Feature Store)\n",
    "\n",
    "In this noteboook, we will show you how to implement fine grained access to control using AWS Lake formation. The configurations will be performed by AWS Lake Formation admin."
   ]
  },
  {
   "cell_type": "markdown",
   "metadata": {},
   "source": [
    "##  A. Lake Formation Admin User"
   ]
  },
  {
   "cell_type": "markdown",
   "metadata": {},
   "source": [
    "In order to perform the steps, you need to create a **Lake Formation Admin user** in IAM (Identify and Access Management) and sign in as that Admin user. Detailed instructions can be found here https://docs.aws.amazon.com/lake-formation/latest/dg/getting-started-setup.html#create-data-lake-adminl."
   ]
  },
  {
   "cell_type": "markdown",
   "metadata": {},
   "source": [
    "## B. Setup AWS Lake Formation\n",
    "\n",
    "In this section, we will show you how to implement the access control in AWS Lake Formation. \n",
    "\n",
    "1. Register the Offline Feature Store in Lake Formation.\n",
    "2. Create the required data filters for fined grained access control\n",
    "3. Grant feature groups (tables) and features (columns) permissions\n",
    "4. Review permissions\n"
   ]
  },
  {
   "cell_type": "markdown",
   "metadata": {},
   "source": [
    "### 1) Register Amazon SageMaker Offline Feature Store in Lake Formation"
   ]
  },
  {
   "cell_type": "markdown",
   "metadata": {},
   "source": [
    "To start using Lake Formation permissions with your existing Feature Store databases and tables, you must revoke the Super permission from the **IAMAllowedPrincipals** group on the database in Lake Formation.\n",
    "\n",
    "* Sign in to the console as a Lake Formation administrator.\n",
    "* In the navigation pane, under **Data Catalog**, choose **Databases**.\n",
    "* Select database **sagemaker_featurestore**, which is the database associated to the offline feature store. Because Feature Store automatically builds an AWS Glue Data Catalog when you create the feature groups, the offline feature store is visible as a database in AWS Lake Formation.\n",
    "\n"
   ]
  },
  {
   "cell_type": "markdown",
   "metadata": {},
   "source": [
    "![Offline Feature Store Database](../../images/fs_lf_database.png \"Granular Access using Lake Formation\")"
   ]
  },
  {
   "cell_type": "markdown",
   "metadata": {},
   "source": [
    "* On the **Actions** menu, choose **Edit**.\n",
    "* On the *Edit database* page, if you want Lake Formation permissions to work for newly created feature groups too, then clear **Use only IAM access control for new tables in this database**, and then choose **Save**.\n",
    "* Back on the **Databases** page, ensure that the sagemaker_featurestore database is still selected, and select **View permissions** under the *Actions* button"
   ]
  },
  {
   "cell_type": "markdown",
   "metadata": {},
   "source": [
    "![Offline Feature Store Database](../../images/fs_lf_db_view_permissions.png \"Granular Access using Lake Formation\")"
   ]
  },
  {
   "cell_type": "markdown",
   "metadata": {},
   "source": [
    "* Select IAMAllowedPrincipals group and click on Revoke button."
   ]
  },
  {
   "cell_type": "markdown",
   "metadata": {},
   "source": [
    "![Offline Feature Store Database](../../images/fs_lf_db_iamallowedprincipals.png \"Granular Access using Lake Formation\")"
   ]
  },
  {
   "cell_type": "markdown",
   "metadata": {},
   "source": [
    "Similarly, you need to perform these steps for all feature group tables that are associated to your offline feature store. \n",
    "\n",
    "* In the navigation pane, under **Data Catalog**, choose **Tables**.\n",
    "* Select table with your [feature group name].\n",
    "* Select **View permissions** under the **Actions** button, select **IAMAllowedPrincipals** group and click on **Revoke** button.\n",
    "\n"
   ]
  },
  {
   "cell_type": "code",
   "execution_count": null,
   "metadata": {},
   "outputs": [],
   "source": [
    "# Retrieve FG names (when running previous modules)\n",
    "%store -r customers_feature_group_name\n",
    "%store -r orders_feature_group_name\n",
    "%store -r products_feature_group_name\n",
    "\n",
    "print(customers_feature_group_name)\n",
    "print(orders_feature_group_name)\n",
    "print(products_feature_group_name)"
   ]
  },
  {
   "cell_type": "markdown",
   "metadata": {},
   "source": [
    "In order to switch the offline feature store to the Lake Formation permission model, you need to turn on Lake Formation Permissions for the Amazon S3 Location of the Offline Feature Store. For this, you have to register the Amazon S3 location\n",
    "\n",
    "* In the navigation pane, under **Register and Ingest**, choose **Data lake locations**.\n",
    "* Click on *Register location*.  \n",
    "* Select the location of the offline feature store in Amazon S3 for the **Amazon S3 path**; the location is the S3Uri that was provided in the FeatureGroup’s offline store configuration and can be found in the DescribeFeatureGroup API's ResolvedOutputS3Uri field.\n",
    "* Use the default AWSServiceRoleForLakeFormationDataAccess IAM role and click **Register location**.\n",
    "\n"
   ]
  },
  {
   "cell_type": "code",
   "execution_count": null,
   "metadata": {},
   "outputs": [],
   "source": [
    "# Add code to retrieve the S3Uri\n",
    "from sagemaker.feature_store.feature_group import FeatureGroup\n",
    "from sagemaker import get_execution_role\n",
    "import sagemaker\n",
    "import logging\n",
    "import boto3\n",
    "import sys\n",
    "import pandas as pd\n",
    "sys.path.append('../..')\n",
    "from utilities import Utils\n",
    "\n",
    "sagemaker_session = sagemaker.Session()\n",
    "account_id = sagemaker_session.account_id()\n",
    "role = sagemaker.get_execution_role()\n",
    "region = sagemaker_session.boto_region_name\n",
    "default_bucket = sagemaker_session.default_bucket()\n",
    "s3_client = boto3.client('s3', region_name=region)\n",
    "query_results= 'sagemaker-featurestore-workshop'\n",
    "prefix = 'sagemaker-feature-store'\n",
    "\n",
    "boto_session = boto3.Session(region_name=region)\n",
    "sagemaker_client = boto_session.client(service_name='sagemaker', region_name=region)\n",
    "featurestore_runtime = boto_session.client(service_name='sagemaker-featurestore-runtime', region_name=region)\n",
    "\n",
    "feature_store_session = sagemaker.Session(boto_session=boto_session, \n",
    "                                          sagemaker_client=sagemaker_client, \n",
    "                                          sagemaker_featurestore_runtime_client=featurestore_runtime)\n",
    "\n",
    "s3_uri = Utils.describe_feature_group(orders_feature_group_name)['OfflineStoreConfig']['S3StorageConfig']['S3Uri']\n",
    "print(s3_uri)"
   ]
  },
  {
   "cell_type": "markdown",
   "metadata": {},
   "source": [
    "![Offline Feature Store Database](../../images/fs_lf_db_register_location.png \"Granular Access using Lake Formation\")"
   ]
  },
  {
   "cell_type": "markdown",
   "metadata": {},
   "source": [
    "### 2) Create granular access control using  Lake Formation"
   ]
  },
  {
   "cell_type": "markdown",
   "metadata": {},
   "source": [
    "You can implement row-level and cell-level security by creating **data filters**. You select a data filter when you grant the SELECT Lake Formation permission on tables.  In this case, we will use this capability to implement a set of filters that limit access to feature groups and features within a feature group.\n",
    "\n",
    "To create a new data filter, in the navigation pane, under **Data Catalog**, choose **Data filters and** then click on **Create new filter** button. See below how to configure two different filters which allow granular access control at the row and cell-levels.\n",
    "\n",
    "* **Row-Level Security.** When you specify the \"all columns\" wildcard and provide a row filter expression, you are establishing row-level security (row filtering) only.  In this example we will create a filter which limits access to a data scientist to only records in orders feature group based on the value of the feature customer_id ='C7782'\n"
   ]
  },
  {
   "cell_type": "markdown",
   "metadata": {},
   "source": [
    "![Offline Feature Store Database](../../images/fs_lf_create_data_filter.png \"Granular Access using Lake Formation\")"
   ]
  },
  {
   "cell_type": "markdown",
   "metadata": {},
   "source": [
    "* **Cell-Level Security.** When you include or exclude specific columns and also provide a row filter expression, you are establishing cell-level security (cell filtering).  In this example we will create a filter which limits access to a data scientist to certain features of a feature group (we exclude sex, is_married) and subset of the records in customers feature group based on the value of the feature customer_id ='C3126')."
   ]
  },
  {
   "cell_type": "markdown",
   "metadata": {},
   "source": [
    "![Offline Feature Store Database](../../images/fs_lf_create_data_filter_2.png \"Granular Access using Lake Formation\")"
   ]
  },
  {
   "cell_type": "markdown",
   "metadata": {},
   "source": [
    "Below is a screenshot of the data filters created."
   ]
  },
  {
   "cell_type": "markdown",
   "metadata": {},
   "source": [
    "![Offline Feature Store Database](../../images/fs_lf_create_data_filter_3.png \"Granular Access using Lake Formation\")"
   ]
  },
  {
   "cell_type": "markdown",
   "metadata": {},
   "source": [
    "### 3) Grant feature groups (tables) and features (columns) permissions"
   ]
  },
  {
   "cell_type": "markdown",
   "metadata": {},
   "source": [
    "In this section, you will grant the granular access control and permissions defined in Lake Formation to a SageMaker user by assigning the data filter to the SageMaker execution role associated to the user who originally created the feature groups. The following diagram illustrates the resources you configure in this section.\n",
    "\n",
    "![Offline Feature Store LF permissions](../../images/fs_lf_permissions_overview.png \"Overview of permissions\")\n",
    "\n",
    "The SageMaker execution role is created as part of the SageMaker Studio domain setup and by default starts with AmazonSageMaker-ExecutionRole-*. First, you need to add a few IAM policies to this role.\n",
    "\n",
    "* You need to attach the AmazonAthenaFullAccess policy to use the Athena service to access the data.\n",
    "* In order for it to be able to access the data via the Lake Formation permission model, you also need to give this role permissions on Lake Formation APIs (GetDataAccess, StartQueryPlanning, GetQueryState, GetWorkUnits, and GetWorkUnitResults) and AWS Glue APIs (GetTables and GetDatabases) in IAM.  By default, the SageMaker Execution Role is given permissions to access objects in the default sagemaker-* S3 bucket which includes the location to the offline feature store (prefix sagemaker-feature-store). As a result, to prevent users from being able to access the raw data files in the offline feature store directly, you need to add a deny policy for S3 operations to the sagemaker-feature-store location. Create the following policy in IAM, name the policy LakeFormationDataAccess, and attach it to the SageMaker execution role. \n"
   ]
  },
  {
   "cell_type": "markdown",
   "metadata": {},
   "source": [
    "```\n",
    "{\n",
    "    \"Version\": \"2012-10-17\",\n",
    "    \"Statement\": [\n",
    "        {\n",
    "            \"Sid\": \"LakeFormationDataAccess\",\n",
    "            \"Effect\": \"Allow\",\n",
    "            \"Action\": [\n",
    "                \"lakeformation:GetDataAccess\",\n",
    "                \"lakeformation:StartQueryPlanning\",\n",
    "                \"lakeformation:GetQueryState\",\n",
    "                \"lakeformation:GetWorkUnits\",\n",
    "                \"lakeformation:GetWorkUnitResults\",\n",
    "                \"glue:GetTables\",\n",
    "                \"glue:GetDatabases\"\n",
    "            ],\n",
    "            \"Resource\": \"*\"\n",
    "        },\n",
    "        {\n",
    "            \"Sid\": \"S3OfflineFeatureStoreAccess\",\n",
    "            \"Effect\": \"Deny\",\n",
    "            \"Action\": \"s3:*\",\n",
    "            \"Resource\": [\n",
    "                \"arn:aws:s3:::*sagemaker*/sagemaker-feature-store/*\"\n",
    "            ]\n",
    "        }\n",
    "    ]\n",
    "}\n",
    "```"
   ]
  },
  {
   "cell_type": "markdown",
   "metadata": {},
   "source": [
    "Next, you need to *GRANT* access to Feature Store database and specific feature group table to SageMaker execution role and assign it one of the data filters created previously.  The screenshot below demonstrates how to grant permissions with data filter for row level access as an example to a SageMaker execution role."
   ]
  },
  {
   "cell_type": "markdown",
   "metadata": {},
   "source": [
    "![Offline Feature Store Database](../../images/fs_lf_grant_permission_1.png \"Granular Access using Lake Formation\")"
   ]
  },
  {
   "cell_type": "markdown",
   "metadata": {},
   "source": [
    "![Offline Feature Store Database](../../images/fs_lf_grant_permission_2.png \"Granular Access using Lake Formation\")"
   ]
  },
  {
   "cell_type": "markdown",
   "metadata": {},
   "source": [
    "Similarly, you can *GRANT* permissions with the data filter created for *cell level* access to the SageMaker execution role."
   ]
  },
  {
   "cell_type": "markdown",
   "metadata": {},
   "source": [
    "<div class=\"alert alert-block alert-info\">\n",
    "<b>Warning:</b> Remove any other permissions associated to the SageMaker Execution Role for a particular feature group table in Lake Formation.  Since you used the same `SageMaker Execution Role` for creating feature groups and ingesting feature records in Module 1, the Lake Formation tables associated to your feature groups will contains permissions giving full access to the tables and the columns.\n",
    "</div>"
   ]
  },
  {
   "cell_type": "markdown",
   "metadata": {},
   "source": [
    "![Offline Feature Store Database](../../images/fs_lf_remove_permissions.png \"Granular Access using Lake Formation\")"
   ]
  },
  {
   "cell_type": "markdown",
   "metadata": {},
   "source": [
    "### 4) Review Permissions"
   ]
  },
  {
   "cell_type": "markdown",
   "metadata": {},
   "source": [
    "Finally review the permissions associated to Offline Feature Store database.\n",
    "\n",
    "* Navigate to **Data lake locations** under **Register and Ingest**\n",
    "* Select the Offline Feature Store database\n",
    "* Click on **Review Permissions** under **Actions**\n",
    "* Validate the permissions are as expected (no IAMAllowedPrincipals principal on the tables and access is granted to your execution role) "
   ]
  },
  {
   "cell_type": "markdown",
   "metadata": {},
   "source": [
    "![Offline Feature Store Database](../../images/fs_lf_review_permissions_1.png \"Granular Access using Lake Formation\")"
   ]
  },
  {
   "cell_type": "markdown",
   "metadata": {},
   "source": [
    "![Offline Feature Store Database](../../images/fs_lf_review_permissions_2.png \"Granular Access using Lake Formation\")"
   ]
  },
  {
   "cell_type": "markdown",
   "metadata": {},
   "source": [
    "### In order to test the access control navigate to `m9_nb1_row_cell_level_access_test.ipynb`"
   ]
  },
  {
   "cell_type": "markdown",
   "metadata": {},
   "source": [
    "### For clean up activities, please refer to `m9_nb2_row_cell_level_access_clean_up.ipynb`"
   ]
  },
  {
   "cell_type": "code",
   "execution_count": null,
   "metadata": {},
   "outputs": [],
   "source": []
  }
 ],
 "metadata": {
  "celltoolbar": "Tags",
  "instance_type": "ml.t3.medium",
  "kernelspec": {
   "display_name": "Python 3 (Data Science)",
   "language": "python",
   "name": "python3__SAGEMAKER_INTERNAL__arn:aws:sagemaker:us-east-1:081325390199:image/datascience-1.0"
  },
  "language_info": {
   "codemirror_mode": {
    "name": "ipython",
    "version": 3
   },
   "file_extension": ".py",
   "mimetype": "text/x-python",
   "name": "python",
   "nbconvert_exporter": "python",
   "pygments_lexer": "ipython3",
   "version": "3.7.10"
  },
  "notice": "Copyright 2017 Amazon.com, Inc. or its affiliates. All Rights Reserved.  Licensed under the Apache License, Version 2.0 (the \"License\"). You may not use this file except in compliance with the License. A copy of the License is located at http://aws.amazon.com/apache2.0/ or in the \"license\" file accompanying this file. This file is distributed on an \"AS IS\" BASIS, WITHOUT WARRANTIES OR CONDITIONS OF ANY KIND, either express or implied. See the License for the specific language governing permissions and limitations under the License."
 },
 "nbformat": 4,
 "nbformat_minor": 4
}
