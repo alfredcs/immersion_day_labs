{
 "cells": [
  {
   "cell_type": "markdown",
   "metadata": {},
   "source": [
    "# Module 2: Search and Discovery using Feature-Level Metadata"
   ]
  },
  {
   "cell_type": "markdown",
   "metadata": {},
   "source": [
    "---\n",
    "\n",
    "## Contents\n",
    "\n",
    "1. [Background](#Background)\n",
    "1. [Setup](#Setup)\n",
    "1. [Feature Level Metadata](#Feature-level-Metadata)\n",
    "1. [Search and Discovery](#Search-and-Discovery)\n"
   ]
  },
  {
   "cell_type": "markdown",
   "metadata": {},
   "source": [
    "# Background"
   ]
  },
  {
   "cell_type": "markdown",
   "metadata": {},
   "source": [
    "In this notebook, you will learn:\n",
    "* how to add new features to an existing feature group\n",
    "* how to add feature-level metadata (description and key/value pairs) to improve search and discovery of features; in this section you will also learn how to search and discovery features using Amazon SageMaker Studio and the API/SDK\n",
    "\n",
    "**Note:** The feature groups created in this notebook will be used in the upcoming modules.\n"
   ]
  },
  {
   "cell_type": "markdown",
   "metadata": {},
   "source": [
    "# Setup"
   ]
  },
  {
   "cell_type": "markdown",
   "metadata": {},
   "source": [
    "#### Imports"
   ]
  },
  {
   "cell_type": "code",
   "execution_count": null,
   "metadata": {},
   "outputs": [],
   "source": [
    "from sagemaker.feature_store.feature_group import FeatureGroup\n",
    "from time import gmtime, strftime, sleep\n",
    "from random import randint\n",
    "import pandas as pd\n",
    "import numpy as np\n",
    "import subprocess\n",
    "import sagemaker\n",
    "import importlib\n",
    "import logging\n",
    "import time\n",
    "import sys\n",
    "import boto3"
   ]
  },
  {
   "cell_type": "code",
   "execution_count": null,
   "metadata": {},
   "outputs": [],
   "source": [
    "if sagemaker.__version__ < '2.48.1':\n",
    "    subprocess.check_call([sys.executable, '-m', 'pip', 'install', 'sagemaker==2.48.1'])\n",
    "    importlib.reload(sagemaker)"
   ]
  },
  {
   "cell_type": "code",
   "execution_count": null,
   "metadata": {},
   "outputs": [],
   "source": [
    "if boto3.__version__ < '1.24.23':\n",
    "    subprocess.check_call([sys.executable, '-m', 'pip', 'install', 'boto3==1.24.23'])\n",
    "    importlib.reload(boto3)"
   ]
  },
  {
   "cell_type": "code",
   "execution_count": null,
   "metadata": {},
   "outputs": [],
   "source": [
    "logger = logging.getLogger('__name__')\n",
    "logger.setLevel(logging.DEBUG)\n",
    "logger.addHandler(logging.StreamHandler())"
   ]
  },
  {
   "cell_type": "code",
   "execution_count": null,
   "metadata": {},
   "outputs": [],
   "source": [
    "logger.info(f'Using SageMaker version: {sagemaker.__version__}')\n",
    "logger.info(f'Using Boto3 version: {boto3.__version__}')"
   ]
  },
  {
   "cell_type": "markdown",
   "metadata": {},
   "source": [
    "#### Essentials"
   ]
  },
  {
   "cell_type": "code",
   "execution_count": null,
   "metadata": {},
   "outputs": [],
   "source": [
    "sagemaker_session = sagemaker.Session()\n",
    "role = sagemaker.get_execution_role()\n",
    "default_bucket = sagemaker_session.default_bucket()\n",
    "logger.info(f'Default S3 bucket = {default_bucket}')\n",
    "prefix = 'sagemaker-feature-store'\n",
    "region = sagemaker_session.boto_region_name\n",
    "\n",
    "boto_session = boto3.Session(region_name=region)\n",
    "sagemaker_client = boto_session.client(service_name='sagemaker', region_name=region)\n",
    "featurestore_runtime = boto_session.client(service_name='sagemaker-featurestore-runtime', region_name=region)\n"
   ]
  },
  {
   "cell_type": "markdown",
   "metadata": {},
   "source": [
    "# Feature Level Metadata"
   ]
  },
  {
   "cell_type": "markdown",
   "metadata": {},
   "source": [
    "With Amazon SageMaker Feature Store, customers have always been able to add metadata at the feature group-level. Data scientists who want the ability to search and discover new features for their models now have the ability to search for information at the feature level. For example, the information can include a description of the feature, the date it was last modified, its original data source, certain metrics, or the level of sensitivity.\n",
    "\n",
    "The diagram below illustrates the architecture relationships between feature groups, features, and associated metadata. \n",
    "\n",
    "![Feature Level Metadata](../images/feature_level_metadata.png \"Feature Level Metadata\") \n",
    "\n",
    "In this section you will be adding metadata to a feature, including a description and a set of key/value pairs."
   ]
  },
  {
   "cell_type": "markdown",
   "metadata": {},
   "source": [
    "#### Retrieve endpoint and Feature Store group names from previous modules"
   ]
  },
  {
   "cell_type": "code",
   "execution_count": null,
   "metadata": {},
   "outputs": [],
   "source": [
    "%store -r customers_feature_group_name\n",
    "\n",
    "print(customers_feature_group_name)"
   ]
  },
  {
   "cell_type": "markdown",
   "metadata": {},
   "source": [
    "Describe FeatureGroup before we update feature metadata"
   ]
  },
  {
   "cell_type": "code",
   "execution_count": null,
   "metadata": {},
   "outputs": [],
   "source": [
    "sagemaker_client.describe_feature_group(\n",
    "        FeatureGroupName=customers_feature_group_name\n",
    "    )"
   ]
  },
  {
   "cell_type": "markdown",
   "metadata": {},
   "source": [
    "#### Adding a description to an existing feature `is_married` from `customers` feature group"
   ]
  },
  {
   "cell_type": "code",
   "execution_count": null,
   "metadata": {},
   "outputs": [],
   "source": [
    "sagemaker_client.update_feature_metadata(\n",
    "    FeatureGroupName=customers_feature_group_name,\n",
    "    FeatureName=\"is_married\",\n",
    "    Description=\"boolean value whether the customer is married or not\"\n",
    ")"
   ]
  },
  {
   "cell_type": "markdown",
   "metadata": {},
   "source": [
    "Describe that feature and check the description is updated"
   ]
  },
  {
   "cell_type": "code",
   "execution_count": null,
   "metadata": {},
   "outputs": [],
   "source": [
    "sagemaker_client.describe_feature_metadata(\n",
    "    FeatureGroupName=customers_feature_group_name,\n",
    "    FeatureName=\"is_married\" \n",
    ")"
   ]
  },
  {
   "cell_type": "markdown",
   "metadata": {},
   "source": [
    "#### Adding parameters to a feature"
   ]
  },
  {
   "cell_type": "code",
   "execution_count": null,
   "metadata": {},
   "outputs": [],
   "source": [
    "sagemaker_client.update_feature_metadata(\n",
    "    FeatureGroupName=customers_feature_group_name,\n",
    "    FeatureName=\"is_married\",\n",
    "    ParameterAdditions=[\n",
    "        {\"Key\": \"team\", \"Value\": \"mlops\"},\n",
    "        {\"Key\": \"org\", \"Value\": \"customer product team\"},\n",
    "    ]\n",
    ")"
   ]
  },
  {
   "cell_type": "markdown",
   "metadata": {},
   "source": [
    "Describe that feature and see if parameters are updated"
   ]
  },
  {
   "cell_type": "code",
   "execution_count": null,
   "metadata": {},
   "outputs": [],
   "source": [
    "sagemaker_client.describe_feature_metadata(\n",
    "    FeatureGroupName=customers_feature_group_name,\n",
    "    FeatureName=\"is_married\"\n",
    ")"
   ]
  },
  {
   "cell_type": "markdown",
   "metadata": {},
   "source": [
    "# Search and Discovery"
   ]
  },
  {
   "cell_type": "markdown",
   "metadata": {},
   "source": [
    "Users can easily search and query features using Amazon SageMaker Studio. With SageMaker search and discovery capabilities, users can immediately search results using a simple type-ahead of a few characters.\n",
    "\n",
    "* Users can access the *Feature Catalog* tab and observe features across feature groups.  The table includes the feature name, type, description, parameters, date of creation and associated feature group’s name.\n",
    "* Users can directly use the type-ahead functionality to immediately return search results.\n",
    "* Users have the flexibility to use different types of filter options: All, Feature name, Description, or Parameters.  Note: All will return all features where either Feature name, Description, or Parameters match the search criteria. \n",
    "* Users can narrow down the search further by specifying a data range using the Created from and Created to fields and specific parameters using the Search parameter key and Search parameter value. \n",
    "\n",
    "The following picture demonstrates a user searching for a feature `is_married` and adding a sensitivity level as key/value pair for the feature.\n"
   ]
  },
  {
   "cell_type": "markdown",
   "metadata": {},
   "source": [
    "![Search Update metadata](../images/search_update_metadata.gif \"Feature Level Metadata\") "
   ]
  },
  {
   "cell_type": "markdown",
   "metadata": {},
   "source": [
    "#### Search for Features using Boto3"
   ]
  },
  {
   "cell_type": "code",
   "execution_count": null,
   "metadata": {},
   "outputs": [],
   "source": [
    "# Search functions that returns features where either feature name, description or parameters (key/value pairs) match the search criteria\n",
    "def search_features_using_string(search_string):\n",
    "    response = sagemaker_client.search(\n",
    "        Resource= \"FeatureMetadata\",\n",
    "        SearchExpression={\n",
    "            'Filters': [\n",
    "                {\n",
    "                    'Name': 'FeatureName',\n",
    "                    'Operator': 'Contains',\n",
    "                    'Value': search_string\n",
    "                },\n",
    "                {\n",
    "                    'Name': 'Description',\n",
    "                    'Operator': 'Contains',\n",
    "                    'Value': search_string\n",
    "                },\n",
    "                {\n",
    "                    'Name': 'AllParameters',\n",
    "                    'Operator': 'Contains',\n",
    "                    'Value': search_string\n",
    "                }\n",
    "            ],\n",
    "            \"Operator\": \"Or\"\n",
    "        },\n",
    "    )\n",
    "    # Displaying results in a DataFrame\n",
    "    df=pd.json_normalize(response['Results'], max_level=1)\n",
    "    df.columns = df.columns.map(lambda col: col.split(\".\")[1])\n",
    "    df=df.drop('FeatureGroupArn', axis=1)\n",
    "    return df\n",
    "\n",
    "# Searching for Feature which contains \"married\" string in either feature name, description, or parameters\n",
    "search_string=\"married\"\n",
    "search_features_using_string(search_string)"
   ]
  },
  {
   "cell_type": "code",
   "execution_count": null,
   "metadata": {},
   "outputs": [],
   "source": []
  }
 ],
 "metadata": {
  "instance_type": "ml.t3.medium",
  "kernelspec": {
   "display_name": "Python 3 (Data Science)",
   "language": "python",
   "name": "python3__SAGEMAKER_INTERNAL__arn:aws:sagemaker:eu-west-2:712779665605:image/datascience-1.0"
  },
  "language_info": {
   "codemirror_mode": {
    "name": "ipython",
    "version": 3
   },
   "file_extension": ".py",
   "mimetype": "text/x-python",
   "name": "python",
   "nbconvert_exporter": "python",
   "pygments_lexer": "ipython3",
   "version": "3.7.10"
  }
 },
 "nbformat": 4,
 "nbformat_minor": 4
}
