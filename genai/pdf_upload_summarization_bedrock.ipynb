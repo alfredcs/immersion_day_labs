{
 "cells": [
  {
   "cell_type": "markdown",
   "metadata": {},
   "source": [
    "# \"Uploading\" PDFs to Claude Via the API"
   ]
  },
  {
   "cell_type": "markdown",
   "metadata": {},
   "source": [
    "One really nice feature of [Claude.ai](https://www.claude.ai) is the ability to upload PDFs. Let's mock up that feature in a notebook, and then test it out by summarizing a long PDF."
   ]
  },
  {
   "cell_type": "code",
   "execution_count": 5,
   "metadata": {},
   "outputs": [
    {
     "name": "stdout",
     "output_type": "stream",
     "text": [
      "\u001b[33mDEPRECATION: Loading egg at /home/alfred/anaconda3/envs/llm/lib/python3.11/site-packages/flash_attn-2.0.7-py3.11-linux-x86_64.egg is deprecated. pip 23.3 will enforce this behaviour change. A possible replacement is to use pip for package installation..\u001b[0m\u001b[33m\n",
      "\u001b[0m\u001b[33mDEPRECATION: Loading egg at /home/alfred/anaconda3/envs/llm/lib/python3.11/site-packages/ninja-1.11.1-py3.11-linux-x86_64.egg is deprecated. pip 23.3 will enforce this behaviour change. A possible replacement is to use pip for package installation..\u001b[0m\u001b[33m\n",
      "\u001b[0m\u001b[33mDEPRECATION: Loading egg at /home/alfred/anaconda3/envs/llm/lib/python3.11/site-packages/einops-0.7.0rc2-py3.11.egg is deprecated. pip 23.3 will enforce this behaviour change. A possible replacement is to use pip for package installation..\u001b[0m\u001b[33m\n",
      "\u001b[0mRequirement already satisfied: boto3 in /home/alfred/anaconda3/envs/llm/lib/python3.11/site-packages (1.26.162)\n",
      "Collecting boto3\n",
      "  Obtaining dependency information for boto3 from https://files.pythonhosted.org/packages/91/a9/c6eea6c80c57d8957eaba3cc1122339a1adbdce60532cbf94046c312bcd3/boto3-1.28.57-py3-none-any.whl.metadata\n",
      "  Using cached boto3-1.28.57-py3-none-any.whl.metadata (6.7 kB)\n",
      "Requirement already satisfied: botocore in /home/alfred/anaconda3/envs/llm/lib/python3.11/site-packages (1.29.162)\n",
      "Collecting botocore\n",
      "  Obtaining dependency information for botocore from https://files.pythonhosted.org/packages/1d/48/6c1118ac9168fcb49900a6a1aefb6d70f44da1da689c498293d133a5f5f1/botocore-1.31.57-py3-none-any.whl.metadata\n",
      "  Downloading botocore-1.31.57-py3-none-any.whl.metadata (6.0 kB)\n",
      "Requirement already satisfied: jmespath<2.0.0,>=0.7.1 in /home/alfred/anaconda3/envs/llm/lib/python3.11/site-packages (from boto3) (1.0.1)\n",
      "Collecting s3transfer<0.8.0,>=0.7.0 (from boto3)\n",
      "  Obtaining dependency information for s3transfer<0.8.0,>=0.7.0 from https://files.pythonhosted.org/packages/5a/4b/fec9ce18f8874a96c5061422625ba86c3ee1e6587ccd92ff9f5bf7bd91b2/s3transfer-0.7.0-py3-none-any.whl.metadata\n",
      "  Downloading s3transfer-0.7.0-py3-none-any.whl.metadata (1.8 kB)\n",
      "Requirement already satisfied: python-dateutil<3.0.0,>=2.1 in /home/alfred/anaconda3/envs/llm/lib/python3.11/site-packages (from botocore) (2.8.2)\n",
      "Collecting urllib3<1.27,>=1.25.4 (from botocore)\n",
      "  Obtaining dependency information for urllib3<1.27,>=1.25.4 from https://files.pythonhosted.org/packages/c5/05/c214b32d21c0b465506f95c4f28ccbcba15022e000b043b72b3df7728471/urllib3-1.26.16-py2.py3-none-any.whl.metadata\n",
      "  Downloading urllib3-1.26.16-py2.py3-none-any.whl.metadata (48 kB)\n",
      "\u001b[2K     \u001b[90m━━━━━━━━━━━━━━━━━━━━━━━━━━━━━━━━━━━━━━━━\u001b[0m \u001b[32m48.4/48.4 kB\u001b[0m \u001b[31m8.4 MB/s\u001b[0m eta \u001b[36m0:00:00\u001b[0m\n",
      "\u001b[?25hRequirement already satisfied: six>=1.5 in /home/alfred/anaconda3/envs/llm/lib/python3.11/site-packages (from python-dateutil<3.0.0,>=2.1->botocore) (1.16.0)\n",
      "Using cached boto3-1.28.57-py3-none-any.whl (135 kB)\n",
      "Using cached botocore-1.31.57-py3-none-any.whl (11.2 MB)\n",
      "Using cached s3transfer-0.7.0-py3-none-any.whl (79 kB)\n",
      "Using cached urllib3-1.26.16-py2.py3-none-any.whl (143 kB)\n",
      "Installing collected packages: urllib3, botocore, s3transfer, boto3\n",
      "  Attempting uninstall: urllib3\n",
      "    Found existing installation: urllib3 2.0.4\n",
      "    Uninstalling urllib3-2.0.4:\n",
      "      Successfully uninstalled urllib3-2.0.4\n",
      "  Attempting uninstall: botocore\n",
      "    Found existing installation: botocore 1.29.162\n",
      "    Uninstalling botocore-1.29.162:\n",
      "      Successfully uninstalled botocore-1.29.162\n",
      "  Attempting uninstall: s3transfer\n",
      "    Found existing installation: s3transfer 0.6.1\n",
      "    Uninstalling s3transfer-0.6.1:\n",
      "      Successfully uninstalled s3transfer-0.6.1\n",
      "  Attempting uninstall: boto3\n",
      "    Found existing installation: boto3 1.26.162\n",
      "    Uninstalling boto3-1.26.162:\n",
      "      Successfully uninstalled boto3-1.26.162\n",
      "Successfully installed boto3-1.28.57 botocore-1.31.57 s3transfer-0.7.0 urllib3-1.26.16\n"
     ]
    }
   ],
   "source": [
    "#!pip install pypdf\n",
    "!pip install boto3 botocore --upgrade"
   ]
  },
  {
   "cell_type": "code",
   "execution_count": 1,
   "metadata": {},
   "outputs": [
    {
     "name": "stdout",
     "output_type": "stream",
     "text": [
      "  % Total    % Received % Xferd  Average Speed   Time    Time     Time  Current\n",
      "                                 Dload  Upload   Total   Spent    Left  Speed\n",
      "100 2039k  100 2039k    0     0  3301k      0 --:--:-- --:--:-- --:--:-- 3304k\n"
     ]
    }
   ],
   "source": [
    "!curl -O https://arxiv.org/pdf/2212.08073.pdf"
   ]
  },
  {
   "cell_type": "markdown",
   "metadata": {},
   "source": [
    "Now, we'll use pypdf to read the pdf. It's not identical to what Claude.ai uses behind the scenes, but it's pretty close."
   ]
  },
  {
   "cell_type": "code",
   "execution_count": 2,
   "metadata": {},
   "outputs": [
    {
     "name": "stdout",
     "output_type": "stream",
     "text": [
      "Constitutional AI: Harmlessness from AI Feedback\n",
      "Yuntao Bai∗, Saurav Kadavath, Sandipan Kundu, Amanda Askell, Jackson Kernion,\n",
      "Andy Jones, Anna Chen, Anna Goldie, Azalia Mirhoseini, Cameron McKinnon,\n",
      "Carol Chen, Catherine Olsson, Christopher Olah, Danny Hernandez, Dawn Drain,\n",
      "Deep Ganguli, Dustin Li, Eli Tran-Johnson, Ethan Perez, Jamie Kerr, Jared Mueller,\n",
      "Jeffrey Ladish, Joshua Landau, Kamal Ndousse, Kamile Lukosuite, Liane Lovitt,\n",
      "Michael Sellitto, Nelson Elhage, Nicholas Schiefer, Noemi Mercado, Nova DasSarma,\n",
      "Robert Lasenby, Robin Larson, Sam Ringer, Scott Johnston, Shauna Kravec,\n",
      "Sheer El Showk, Stanislav Fort, Tamera Lanham, Timothy Telleen-Lawton, Tom Conerly,\n",
      "Tom Henighan, Tristan Hume, Samuel R. Bowman, Zac Hatﬁeld-Dodds, Ben Mann,\n",
      "Dario Amodei, Nicholas Joseph, Sam McCandlish, Tom Brown, Jared Kaplan∗\n",
      "Anthropic\n",
      "Abstract\n",
      "As AI systems become more capable, we would like to enlist their help to supervise\n",
      "other AIs. We experiment with methods for training a harmless AI assistant through self-\n",
      "improvement, without any human labels identifying harmful outputs. The only human\n",
      "oversight is provided through a list of rules or principles, and so we refer to the method as\n",
      "‘Constitutional AI’. The process involves both a supervised learning and a reinforcement\n",
      "learning phase. In the supervised phase we sample from an initial model, then generate\n",
      "self-critiques and revisions, and then ﬁnetune the original model on revised responses. In\n",
      "the RL phase, we sample from the ﬁnetuned model, use a model to evaluate which of the\n",
      "two samples is better, and then train a preference model from this dataset of AI prefer-\n",
      "ences. We then train with RL using the preference model as the reward signal, i.e. we\n",
      "use ‘RL from AI Feedback’ (RLAIF). As a result we are able to train a harmless but non-\n",
      "evasive AI assistant that engages with harmful queries by explaining its objections to them.\n",
      "Both the SL and RL methods can leverage chain-of-thought style reasoning to improve the\n",
      "human-judged performance and transparency of AI decision making. These methods make\n",
      "it possible to control AI behavior more precisely and with far fewer human labels.\n",
      "\n"
     ]
    }
   ],
   "source": [
    "from pypdf import PdfReader\n",
    "\n",
    "reader = PdfReader(\"2212.08073.pdf\")\n",
    "number_of_pages = len(reader.pages)\n",
    "text = ''.join([page.extract_text() for page in reader.pages])\n",
    "print(text[:2155])"
   ]
  },
  {
   "cell_type": "code",
   "execution_count": 1,
   "metadata": {},
   "outputs": [
    {
     "ename": "UnknownServiceError",
     "evalue": "Unknown service: 'bedrock-runtime'. Valid service names are: accessanalyzer, account, acm, acm-pca, alexaforbusiness, amp, amplify, amplifybackend, amplifyuibuilder, apigateway, apigatewaymanagementapi, apigatewayv2, appconfig, appconfigdata, appfabric, appflow, appintegrations, application-autoscaling, application-insights, applicationcostprofiler, appmesh, apprunner, appstream, appsync, arc-zonal-shift, athena, auditmanager, autoscaling, autoscaling-plans, backup, backup-gateway, backupstorage, batch, bedrock, billingconductor, braket, budgets, ce, chime, chime-sdk-identity, chime-sdk-media-pipelines, chime-sdk-meetings, chime-sdk-messaging, chime-sdk-voice, cleanrooms, cloud9, cloudcontrol, clouddirectory, cloudformation, cloudfront, cloudhsm, cloudhsmv2, cloudsearch, cloudsearchdomain, cloudtrail, cloudtrail-data, cloudwatch, codeartifact, codebuild, codecatalyst, codecommit, codedeploy, codeguru-reviewer, codeguru-security, codeguruprofiler, codepipeline, codestar, codestar-connections, codestar-notifications, cognito-identity, cognito-idp, cognito-sync, comprehend, comprehendmedical, compute-optimizer, config, connect, connect-contact-lens, connectcampaigns, connectcases, connectparticipant, controltower, cur, customer-profiles, databrew, dataexchange, datapipeline, datasync, dax, detective, devicefarm, devops-guru, directconnect, discovery, dlm, dms, docdb, docdb-elastic, drs, ds, dynamodb, dynamodbstreams, ebs, ec2, ec2-instance-connect, ecr, ecr-public, ecs, efs, eks, elastic-inference, elasticache, elasticbeanstalk, elastictranscoder, elb, elbv2, emr, emr-containers, emr-serverless, entityresolution, es, events, evidently, finspace, finspace-data, firehose, fis, fms, forecast, forecastquery, frauddetector, fsx, gamelift, gamesparks, glacier, globalaccelerator, glue, grafana, greengrass, greengrassv2, groundstation, guardduty, health, healthlake, honeycode, iam, identitystore, imagebuilder, importexport, inspector, inspector2, internetmonitor, iot, iot-data, iot-jobs-data, iot-roborunner, iot1click-devices, iot1click-projects, iotanalytics, iotdeviceadvisor, iotevents, iotevents-data, iotfleethub, iotfleetwise, iotsecuretunneling, iotsitewise, iotthingsgraph, iottwinmaker, iotwireless, ivs, ivs-realtime, ivschat, kafka, kafkaconnect, kendra, kendra-ranking, keyspaces, kinesis, kinesis-video-archived-media, kinesis-video-media, kinesis-video-signaling, kinesis-video-webrtc-storage, kinesisanalytics, kinesisanalyticsv2, kinesisvideo, kms, lakeformation, lambda, lex-models, lex-runtime, lexv2-models, lexv2-runtime, license-manager, license-manager-linux-subscriptions, license-manager-user-subscriptions, lightsail, location, logs, lookoutequipment, lookoutmetrics, lookoutvision, m2, machinelearning, macie, macie2, managedblockchain, managedblockchain-query, marketplace-catalog, marketplace-entitlement, marketplacecommerceanalytics, mediaconnect, mediaconvert, medialive, mediapackage, mediapackage-vod, mediapackagev2, mediastore, mediastore-data, mediatailor, medical-imaging, memorydb, meteringmarketplace, mgh, mgn, migration-hub-refactor-spaces, migrationhub-config, migrationhuborchestrator, migrationhubstrategy, mobile, mq, mturk, mwaa, neptune, network-firewall, networkmanager, nimble, oam, omics, opensearch, opensearchserverless, opsworks, opsworkscm, organizations, osis, outposts, panorama, payment-cryptography, payment-cryptography-data, personalize, personalize-events, personalize-runtime, pi, pinpoint, pinpoint-email, pinpoint-sms-voice, pinpoint-sms-voice-v2, pipes, polly, pricing, privatenetworks, proton, qldb, qldb-session, quicksight, ram, rbin, rds, rds-data, redshift, redshift-data, redshift-serverless, rekognition, resiliencehub, resource-explorer-2, resource-groups, resourcegroupstaggingapi, robomaker, rolesanywhere, route53, route53-recovery-cluster, route53-recovery-control-config, route53-recovery-readiness, route53domains, route53resolver, rum, s3, s3control, s3outposts, sagemaker, sagemaker-a2i-runtime, sagemaker-edge, sagemaker-featurestore-runtime, sagemaker-geospatial, sagemaker-metrics, sagemaker-runtime, savingsplans, scheduler, schemas, sdb, secretsmanager, securityhub, securitylake, serverlessrepo, service-quotas, servicecatalog, servicecatalog-appregistry, servicediscovery, ses, sesv2, shield, signer, simspaceweaver, sms, sms-voice, snow-device-management, snowball, sns, sqs, ssm, ssm-contacts, ssm-incidents, ssm-sap, sso, sso-admin, sso-oidc, stepfunctions, storagegateway, sts, support, support-app, swf, synthetics, textract, timestream-query, timestream-write, tnb, transcribe, transfer, translate, verifiedpermissions, voice-id, vpc-lattice, waf, waf-regional, wafv2, wellarchitected, wisdom, workdocs, worklink, workmail, workmailmessageflow, workspaces, workspaces-web, xray",
     "output_type": "error",
     "traceback": [
      "\u001b[0;31m---------------------------------------------------------------------------\u001b[0m",
      "\u001b[0;31mUnknownServiceError\u001b[0m                       Traceback (most recent call last)",
      "Cell \u001b[0;32mIn[1], line 14\u001b[0m\n\u001b[1;32m     12\u001b[0m \u001b[38;5;66;03m## Use this for boto3 1.28.57\u001b[39;00m\n\u001b[1;32m     13\u001b[0m br_client \u001b[38;5;241m=\u001b[39m boto3\u001b[38;5;241m.\u001b[39mclient(\u001b[38;5;124m'\u001b[39m\u001b[38;5;124mbedrock\u001b[39m\u001b[38;5;124m'\u001b[39m)\n\u001b[0;32m---> 14\u001b[0m br_runtime_client \u001b[38;5;241m=\u001b[39m \u001b[43mboto3\u001b[49m\u001b[38;5;241;43m.\u001b[39;49m\u001b[43mclient\u001b[49m\u001b[43m(\u001b[49m\u001b[38;5;124;43m'\u001b[39;49m\u001b[38;5;124;43mbedrock-runtime\u001b[39;49m\u001b[38;5;124;43m'\u001b[39;49m\u001b[43m)\u001b[49m\n\u001b[1;32m     15\u001b[0m br_client\u001b[38;5;241m.\u001b[39mlist_foundation_models()\n",
      "File \u001b[0;32m~/anaconda3/envs/tsam/lib/python3.8/site-packages/boto3/__init__.py:92\u001b[0m, in \u001b[0;36mclient\u001b[0;34m(*args, **kwargs)\u001b[0m\n\u001b[1;32m     86\u001b[0m \u001b[38;5;28;01mdef\u001b[39;00m \u001b[38;5;21mclient\u001b[39m(\u001b[38;5;241m*\u001b[39margs, \u001b[38;5;241m*\u001b[39m\u001b[38;5;241m*\u001b[39mkwargs):\n\u001b[1;32m     87\u001b[0m \u001b[38;5;250m    \u001b[39m\u001b[38;5;124;03m\"\"\"\u001b[39;00m\n\u001b[1;32m     88\u001b[0m \u001b[38;5;124;03m    Create a low-level service client by name using the default session.\u001b[39;00m\n\u001b[1;32m     89\u001b[0m \n\u001b[1;32m     90\u001b[0m \u001b[38;5;124;03m    See :py:meth:`boto3.session.Session.client`.\u001b[39;00m\n\u001b[1;32m     91\u001b[0m \u001b[38;5;124;03m    \"\"\"\u001b[39;00m\n\u001b[0;32m---> 92\u001b[0m     \u001b[38;5;28;01mreturn\u001b[39;00m \u001b[43m_get_default_session\u001b[49m\u001b[43m(\u001b[49m\u001b[43m)\u001b[49m\u001b[38;5;241;43m.\u001b[39;49m\u001b[43mclient\u001b[49m\u001b[43m(\u001b[49m\u001b[38;5;241;43m*\u001b[39;49m\u001b[43margs\u001b[49m\u001b[43m,\u001b[49m\u001b[43m \u001b[49m\u001b[38;5;241;43m*\u001b[39;49m\u001b[38;5;241;43m*\u001b[39;49m\u001b[43mkwargs\u001b[49m\u001b[43m)\u001b[49m\n",
      "File \u001b[0;32m~/anaconda3/envs/tsam/lib/python3.8/site-packages/boto3/session.py:299\u001b[0m, in \u001b[0;36mSession.client\u001b[0;34m(self, service_name, region_name, api_version, use_ssl, verify, endpoint_url, aws_access_key_id, aws_secret_access_key, aws_session_token, config)\u001b[0m\n\u001b[1;32m    217\u001b[0m \u001b[38;5;28;01mdef\u001b[39;00m \u001b[38;5;21mclient\u001b[39m(\n\u001b[1;32m    218\u001b[0m     \u001b[38;5;28mself\u001b[39m,\n\u001b[1;32m    219\u001b[0m     service_name,\n\u001b[0;32m   (...)\u001b[0m\n\u001b[1;32m    228\u001b[0m     config\u001b[38;5;241m=\u001b[39m\u001b[38;5;28;01mNone\u001b[39;00m,\n\u001b[1;32m    229\u001b[0m ):\n\u001b[1;32m    230\u001b[0m \u001b[38;5;250m    \u001b[39m\u001b[38;5;124;03m\"\"\"\u001b[39;00m\n\u001b[1;32m    231\u001b[0m \u001b[38;5;124;03m    Create a low-level service client by name.\u001b[39;00m\n\u001b[1;32m    232\u001b[0m \n\u001b[0;32m   (...)\u001b[0m\n\u001b[1;32m    297\u001b[0m \n\u001b[1;32m    298\u001b[0m \u001b[38;5;124;03m    \"\"\"\u001b[39;00m\n\u001b[0;32m--> 299\u001b[0m     \u001b[38;5;28;01mreturn\u001b[39;00m \u001b[38;5;28;43mself\u001b[39;49m\u001b[38;5;241;43m.\u001b[39;49m\u001b[43m_session\u001b[49m\u001b[38;5;241;43m.\u001b[39;49m\u001b[43mcreate_client\u001b[49m\u001b[43m(\u001b[49m\n\u001b[1;32m    300\u001b[0m \u001b[43m        \u001b[49m\u001b[43mservice_name\u001b[49m\u001b[43m,\u001b[49m\n\u001b[1;32m    301\u001b[0m \u001b[43m        \u001b[49m\u001b[43mregion_name\u001b[49m\u001b[38;5;241;43m=\u001b[39;49m\u001b[43mregion_name\u001b[49m\u001b[43m,\u001b[49m\n\u001b[1;32m    302\u001b[0m \u001b[43m        \u001b[49m\u001b[43mapi_version\u001b[49m\u001b[38;5;241;43m=\u001b[39;49m\u001b[43mapi_version\u001b[49m\u001b[43m,\u001b[49m\n\u001b[1;32m    303\u001b[0m \u001b[43m        \u001b[49m\u001b[43muse_ssl\u001b[49m\u001b[38;5;241;43m=\u001b[39;49m\u001b[43muse_ssl\u001b[49m\u001b[43m,\u001b[49m\n\u001b[1;32m    304\u001b[0m \u001b[43m        \u001b[49m\u001b[43mverify\u001b[49m\u001b[38;5;241;43m=\u001b[39;49m\u001b[43mverify\u001b[49m\u001b[43m,\u001b[49m\n\u001b[1;32m    305\u001b[0m \u001b[43m        \u001b[49m\u001b[43mendpoint_url\u001b[49m\u001b[38;5;241;43m=\u001b[39;49m\u001b[43mendpoint_url\u001b[49m\u001b[43m,\u001b[49m\n\u001b[1;32m    306\u001b[0m \u001b[43m        \u001b[49m\u001b[43maws_access_key_id\u001b[49m\u001b[38;5;241;43m=\u001b[39;49m\u001b[43maws_access_key_id\u001b[49m\u001b[43m,\u001b[49m\n\u001b[1;32m    307\u001b[0m \u001b[43m        \u001b[49m\u001b[43maws_secret_access_key\u001b[49m\u001b[38;5;241;43m=\u001b[39;49m\u001b[43maws_secret_access_key\u001b[49m\u001b[43m,\u001b[49m\n\u001b[1;32m    308\u001b[0m \u001b[43m        \u001b[49m\u001b[43maws_session_token\u001b[49m\u001b[38;5;241;43m=\u001b[39;49m\u001b[43maws_session_token\u001b[49m\u001b[43m,\u001b[49m\n\u001b[1;32m    309\u001b[0m \u001b[43m        \u001b[49m\u001b[43mconfig\u001b[49m\u001b[38;5;241;43m=\u001b[39;49m\u001b[43mconfig\u001b[49m\u001b[43m,\u001b[49m\n\u001b[1;32m    310\u001b[0m \u001b[43m    \u001b[49m\u001b[43m)\u001b[49m\n",
      "File \u001b[0;32m~/anaconda3/envs/tsam/lib/python3.8/site-packages/botocore/session.py:997\u001b[0m, in \u001b[0;36mSession.create_client\u001b[0;34m(self, service_name, region_name, api_version, use_ssl, verify, endpoint_url, aws_access_key_id, aws_secret_access_key, aws_session_token, config)\u001b[0m\n\u001b[1;32m    980\u001b[0m \u001b[38;5;28mself\u001b[39m\u001b[38;5;241m.\u001b[39m_add_configured_endpoint_provider(\n\u001b[1;32m    981\u001b[0m     client_name\u001b[38;5;241m=\u001b[39mservice_name,\n\u001b[1;32m    982\u001b[0m     config_store\u001b[38;5;241m=\u001b[39mconfig_store,\n\u001b[1;32m    983\u001b[0m )\n\u001b[1;32m    985\u001b[0m client_creator \u001b[38;5;241m=\u001b[39m botocore\u001b[38;5;241m.\u001b[39mclient\u001b[38;5;241m.\u001b[39mClientCreator(\n\u001b[1;32m    986\u001b[0m     loader,\n\u001b[1;32m    987\u001b[0m     endpoint_resolver,\n\u001b[0;32m   (...)\u001b[0m\n\u001b[1;32m    995\u001b[0m     user_agent_creator\u001b[38;5;241m=\u001b[39muser_agent_creator,\n\u001b[1;32m    996\u001b[0m )\n\u001b[0;32m--> 997\u001b[0m client \u001b[38;5;241m=\u001b[39m \u001b[43mclient_creator\u001b[49m\u001b[38;5;241;43m.\u001b[39;49m\u001b[43mcreate_client\u001b[49m\u001b[43m(\u001b[49m\n\u001b[1;32m    998\u001b[0m \u001b[43m    \u001b[49m\u001b[43mservice_name\u001b[49m\u001b[38;5;241;43m=\u001b[39;49m\u001b[43mservice_name\u001b[49m\u001b[43m,\u001b[49m\n\u001b[1;32m    999\u001b[0m \u001b[43m    \u001b[49m\u001b[43mregion_name\u001b[49m\u001b[38;5;241;43m=\u001b[39;49m\u001b[43mregion_name\u001b[49m\u001b[43m,\u001b[49m\n\u001b[1;32m   1000\u001b[0m \u001b[43m    \u001b[49m\u001b[43mis_secure\u001b[49m\u001b[38;5;241;43m=\u001b[39;49m\u001b[43muse_ssl\u001b[49m\u001b[43m,\u001b[49m\n\u001b[1;32m   1001\u001b[0m \u001b[43m    \u001b[49m\u001b[43mendpoint_url\u001b[49m\u001b[38;5;241;43m=\u001b[39;49m\u001b[43mendpoint_url\u001b[49m\u001b[43m,\u001b[49m\n\u001b[1;32m   1002\u001b[0m \u001b[43m    \u001b[49m\u001b[43mverify\u001b[49m\u001b[38;5;241;43m=\u001b[39;49m\u001b[43mverify\u001b[49m\u001b[43m,\u001b[49m\n\u001b[1;32m   1003\u001b[0m \u001b[43m    \u001b[49m\u001b[43mcredentials\u001b[49m\u001b[38;5;241;43m=\u001b[39;49m\u001b[43mcredentials\u001b[49m\u001b[43m,\u001b[49m\n\u001b[1;32m   1004\u001b[0m \u001b[43m    \u001b[49m\u001b[43mscoped_config\u001b[49m\u001b[38;5;241;43m=\u001b[39;49m\u001b[38;5;28;43mself\u001b[39;49m\u001b[38;5;241;43m.\u001b[39;49m\u001b[43mget_scoped_config\u001b[49m\u001b[43m(\u001b[49m\u001b[43m)\u001b[49m\u001b[43m,\u001b[49m\n\u001b[1;32m   1005\u001b[0m \u001b[43m    \u001b[49m\u001b[43mclient_config\u001b[49m\u001b[38;5;241;43m=\u001b[39;49m\u001b[43mconfig\u001b[49m\u001b[43m,\u001b[49m\n\u001b[1;32m   1006\u001b[0m \u001b[43m    \u001b[49m\u001b[43mapi_version\u001b[49m\u001b[38;5;241;43m=\u001b[39;49m\u001b[43mapi_version\u001b[49m\u001b[43m,\u001b[49m\n\u001b[1;32m   1007\u001b[0m \u001b[43m    \u001b[49m\u001b[43mauth_token\u001b[49m\u001b[38;5;241;43m=\u001b[39;49m\u001b[43mauth_token\u001b[49m\u001b[43m,\u001b[49m\n\u001b[1;32m   1008\u001b[0m \u001b[43m\u001b[49m\u001b[43m)\u001b[49m\n\u001b[1;32m   1009\u001b[0m monitor \u001b[38;5;241m=\u001b[39m \u001b[38;5;28mself\u001b[39m\u001b[38;5;241m.\u001b[39m_get_internal_component(\u001b[38;5;124m'\u001b[39m\u001b[38;5;124mmonitor\u001b[39m\u001b[38;5;124m'\u001b[39m)\n\u001b[1;32m   1010\u001b[0m \u001b[38;5;28;01mif\u001b[39;00m monitor \u001b[38;5;129;01mis\u001b[39;00m \u001b[38;5;129;01mnot\u001b[39;00m \u001b[38;5;28;01mNone\u001b[39;00m:\n",
      "File \u001b[0;32m~/anaconda3/envs/tsam/lib/python3.8/site-packages/botocore/client.py:130\u001b[0m, in \u001b[0;36mClientCreator.create_client\u001b[0;34m(self, service_name, region_name, is_secure, endpoint_url, verify, credentials, scoped_config, api_version, client_config, auth_token)\u001b[0m\n\u001b[1;32m    126\u001b[0m responses \u001b[38;5;241m=\u001b[39m \u001b[38;5;28mself\u001b[39m\u001b[38;5;241m.\u001b[39m_event_emitter\u001b[38;5;241m.\u001b[39memit(\n\u001b[1;32m    127\u001b[0m     \u001b[38;5;124m'\u001b[39m\u001b[38;5;124mchoose-service-name\u001b[39m\u001b[38;5;124m'\u001b[39m, service_name\u001b[38;5;241m=\u001b[39mservice_name\n\u001b[1;32m    128\u001b[0m )\n\u001b[1;32m    129\u001b[0m service_name \u001b[38;5;241m=\u001b[39m first_non_none_response(responses, default\u001b[38;5;241m=\u001b[39mservice_name)\n\u001b[0;32m--> 130\u001b[0m service_model \u001b[38;5;241m=\u001b[39m \u001b[38;5;28;43mself\u001b[39;49m\u001b[38;5;241;43m.\u001b[39;49m\u001b[43m_load_service_model\u001b[49m\u001b[43m(\u001b[49m\u001b[43mservice_name\u001b[49m\u001b[43m,\u001b[49m\u001b[43m \u001b[49m\u001b[43mapi_version\u001b[49m\u001b[43m)\u001b[49m\n\u001b[1;32m    131\u001b[0m \u001b[38;5;28;01mtry\u001b[39;00m:\n\u001b[1;32m    132\u001b[0m     endpoints_ruleset_data \u001b[38;5;241m=\u001b[39m \u001b[38;5;28mself\u001b[39m\u001b[38;5;241m.\u001b[39m_load_service_endpoints_ruleset(\n\u001b[1;32m    133\u001b[0m         service_name, api_version\n\u001b[1;32m    134\u001b[0m     )\n",
      "File \u001b[0;32m~/anaconda3/envs/tsam/lib/python3.8/site-packages/botocore/client.py:232\u001b[0m, in \u001b[0;36mClientCreator._load_service_model\u001b[0;34m(self, service_name, api_version)\u001b[0m\n\u001b[1;32m    231\u001b[0m \u001b[38;5;28;01mdef\u001b[39;00m \u001b[38;5;21m_load_service_model\u001b[39m(\u001b[38;5;28mself\u001b[39m, service_name, api_version\u001b[38;5;241m=\u001b[39m\u001b[38;5;28;01mNone\u001b[39;00m):\n\u001b[0;32m--> 232\u001b[0m     json_model \u001b[38;5;241m=\u001b[39m \u001b[38;5;28;43mself\u001b[39;49m\u001b[38;5;241;43m.\u001b[39;49m\u001b[43m_loader\u001b[49m\u001b[38;5;241;43m.\u001b[39;49m\u001b[43mload_service_model\u001b[49m\u001b[43m(\u001b[49m\n\u001b[1;32m    233\u001b[0m \u001b[43m        \u001b[49m\u001b[43mservice_name\u001b[49m\u001b[43m,\u001b[49m\u001b[43m \u001b[49m\u001b[38;5;124;43m'\u001b[39;49m\u001b[38;5;124;43mservice-2\u001b[39;49m\u001b[38;5;124;43m'\u001b[39;49m\u001b[43m,\u001b[49m\u001b[43m \u001b[49m\u001b[43mapi_version\u001b[49m\u001b[38;5;241;43m=\u001b[39;49m\u001b[43mapi_version\u001b[49m\n\u001b[1;32m    234\u001b[0m \u001b[43m    \u001b[49m\u001b[43m)\u001b[49m\n\u001b[1;32m    235\u001b[0m     service_model \u001b[38;5;241m=\u001b[39m ServiceModel(json_model, service_name\u001b[38;5;241m=\u001b[39mservice_name)\n\u001b[1;32m    236\u001b[0m     \u001b[38;5;28;01mreturn\u001b[39;00m service_model\n",
      "File \u001b[0;32m~/anaconda3/envs/tsam/lib/python3.8/site-packages/botocore/loaders.py:142\u001b[0m, in \u001b[0;36minstance_cache.<locals>._wrapper\u001b[0;34m(self, *args, **kwargs)\u001b[0m\n\u001b[1;32m    140\u001b[0m \u001b[38;5;28;01mif\u001b[39;00m key \u001b[38;5;129;01min\u001b[39;00m \u001b[38;5;28mself\u001b[39m\u001b[38;5;241m.\u001b[39m_cache:\n\u001b[1;32m    141\u001b[0m     \u001b[38;5;28;01mreturn\u001b[39;00m \u001b[38;5;28mself\u001b[39m\u001b[38;5;241m.\u001b[39m_cache[key]\n\u001b[0;32m--> 142\u001b[0m data \u001b[38;5;241m=\u001b[39m \u001b[43mfunc\u001b[49m\u001b[43m(\u001b[49m\u001b[38;5;28;43mself\u001b[39;49m\u001b[43m,\u001b[49m\u001b[43m \u001b[49m\u001b[38;5;241;43m*\u001b[39;49m\u001b[43margs\u001b[49m\u001b[43m,\u001b[49m\u001b[43m \u001b[49m\u001b[38;5;241;43m*\u001b[39;49m\u001b[38;5;241;43m*\u001b[39;49m\u001b[43mkwargs\u001b[49m\u001b[43m)\u001b[49m\n\u001b[1;32m    143\u001b[0m \u001b[38;5;28mself\u001b[39m\u001b[38;5;241m.\u001b[39m_cache[key] \u001b[38;5;241m=\u001b[39m data\n\u001b[1;32m    144\u001b[0m \u001b[38;5;28;01mreturn\u001b[39;00m data\n",
      "File \u001b[0;32m~/anaconda3/envs/tsam/lib/python3.8/site-packages/botocore/loaders.py:408\u001b[0m, in \u001b[0;36mLoader.load_service_model\u001b[0;34m(self, service_name, type_name, api_version)\u001b[0m\n\u001b[1;32m    406\u001b[0m known_services \u001b[38;5;241m=\u001b[39m \u001b[38;5;28mself\u001b[39m\u001b[38;5;241m.\u001b[39mlist_available_services(type_name)\n\u001b[1;32m    407\u001b[0m \u001b[38;5;28;01mif\u001b[39;00m service_name \u001b[38;5;129;01mnot\u001b[39;00m \u001b[38;5;129;01min\u001b[39;00m known_services:\n\u001b[0;32m--> 408\u001b[0m     \u001b[38;5;28;01mraise\u001b[39;00m UnknownServiceError(\n\u001b[1;32m    409\u001b[0m         service_name\u001b[38;5;241m=\u001b[39mservice_name,\n\u001b[1;32m    410\u001b[0m         known_service_names\u001b[38;5;241m=\u001b[39m\u001b[38;5;124m'\u001b[39m\u001b[38;5;124m, \u001b[39m\u001b[38;5;124m'\u001b[39m\u001b[38;5;241m.\u001b[39mjoin(\u001b[38;5;28msorted\u001b[39m(known_services)),\n\u001b[1;32m    411\u001b[0m     )\n\u001b[1;32m    412\u001b[0m \u001b[38;5;28;01mif\u001b[39;00m api_version \u001b[38;5;129;01mis\u001b[39;00m \u001b[38;5;28;01mNone\u001b[39;00m:\n\u001b[1;32m    413\u001b[0m     api_version \u001b[38;5;241m=\u001b[39m \u001b[38;5;28mself\u001b[39m\u001b[38;5;241m.\u001b[39mdetermine_latest_version(\n\u001b[1;32m    414\u001b[0m         service_name, type_name\n\u001b[1;32m    415\u001b[0m     )\n",
      "\u001b[0;31mUnknownServiceError\u001b[0m: Unknown service: 'bedrock-runtime'. Valid service names are: accessanalyzer, account, acm, acm-pca, alexaforbusiness, amp, amplify, amplifybackend, amplifyuibuilder, apigateway, apigatewaymanagementapi, apigatewayv2, appconfig, appconfigdata, appfabric, appflow, appintegrations, application-autoscaling, application-insights, applicationcostprofiler, appmesh, apprunner, appstream, appsync, arc-zonal-shift, athena, auditmanager, autoscaling, autoscaling-plans, backup, backup-gateway, backupstorage, batch, bedrock, billingconductor, braket, budgets, ce, chime, chime-sdk-identity, chime-sdk-media-pipelines, chime-sdk-meetings, chime-sdk-messaging, chime-sdk-voice, cleanrooms, cloud9, cloudcontrol, clouddirectory, cloudformation, cloudfront, cloudhsm, cloudhsmv2, cloudsearch, cloudsearchdomain, cloudtrail, cloudtrail-data, cloudwatch, codeartifact, codebuild, codecatalyst, codecommit, codedeploy, codeguru-reviewer, codeguru-security, codeguruprofiler, codepipeline, codestar, codestar-connections, codestar-notifications, cognito-identity, cognito-idp, cognito-sync, comprehend, comprehendmedical, compute-optimizer, config, connect, connect-contact-lens, connectcampaigns, connectcases, connectparticipant, controltower, cur, customer-profiles, databrew, dataexchange, datapipeline, datasync, dax, detective, devicefarm, devops-guru, directconnect, discovery, dlm, dms, docdb, docdb-elastic, drs, ds, dynamodb, dynamodbstreams, ebs, ec2, ec2-instance-connect, ecr, ecr-public, ecs, efs, eks, elastic-inference, elasticache, elasticbeanstalk, elastictranscoder, elb, elbv2, emr, emr-containers, emr-serverless, entityresolution, es, events, evidently, finspace, finspace-data, firehose, fis, fms, forecast, forecastquery, frauddetector, fsx, gamelift, gamesparks, glacier, globalaccelerator, glue, grafana, greengrass, greengrassv2, groundstation, guardduty, health, healthlake, honeycode, iam, identitystore, imagebuilder, importexport, inspector, inspector2, internetmonitor, iot, iot-data, iot-jobs-data, iot-roborunner, iot1click-devices, iot1click-projects, iotanalytics, iotdeviceadvisor, iotevents, iotevents-data, iotfleethub, iotfleetwise, iotsecuretunneling, iotsitewise, iotthingsgraph, iottwinmaker, iotwireless, ivs, ivs-realtime, ivschat, kafka, kafkaconnect, kendra, kendra-ranking, keyspaces, kinesis, kinesis-video-archived-media, kinesis-video-media, kinesis-video-signaling, kinesis-video-webrtc-storage, kinesisanalytics, kinesisanalyticsv2, kinesisvideo, kms, lakeformation, lambda, lex-models, lex-runtime, lexv2-models, lexv2-runtime, license-manager, license-manager-linux-subscriptions, license-manager-user-subscriptions, lightsail, location, logs, lookoutequipment, lookoutmetrics, lookoutvision, m2, machinelearning, macie, macie2, managedblockchain, managedblockchain-query, marketplace-catalog, marketplace-entitlement, marketplacecommerceanalytics, mediaconnect, mediaconvert, medialive, mediapackage, mediapackage-vod, mediapackagev2, mediastore, mediastore-data, mediatailor, medical-imaging, memorydb, meteringmarketplace, mgh, mgn, migration-hub-refactor-spaces, migrationhub-config, migrationhuborchestrator, migrationhubstrategy, mobile, mq, mturk, mwaa, neptune, network-firewall, networkmanager, nimble, oam, omics, opensearch, opensearchserverless, opsworks, opsworkscm, organizations, osis, outposts, panorama, payment-cryptography, payment-cryptography-data, personalize, personalize-events, personalize-runtime, pi, pinpoint, pinpoint-email, pinpoint-sms-voice, pinpoint-sms-voice-v2, pipes, polly, pricing, privatenetworks, proton, qldb, qldb-session, quicksight, ram, rbin, rds, rds-data, redshift, redshift-data, redshift-serverless, rekognition, resiliencehub, resource-explorer-2, resource-groups, resourcegroupstaggingapi, robomaker, rolesanywhere, route53, route53-recovery-cluster, route53-recovery-control-config, route53-recovery-readiness, route53domains, route53resolver, rum, s3, s3control, s3outposts, sagemaker, sagemaker-a2i-runtime, sagemaker-edge, sagemaker-featurestore-runtime, sagemaker-geospatial, sagemaker-metrics, sagemaker-runtime, savingsplans, scheduler, schemas, sdb, secretsmanager, securityhub, securitylake, serverlessrepo, service-quotas, servicecatalog, servicecatalog-appregistry, servicediscovery, ses, sesv2, shield, signer, simspaceweaver, sms, sms-voice, snow-device-management, snowball, sns, sqs, ssm, ssm-contacts, ssm-incidents, ssm-sap, sso, sso-admin, sso-oidc, stepfunctions, storagegateway, sts, support, support-app, swf, synthetics, textract, timestream-query, timestream-write, tnb, transcribe, transfer, translate, verifiedpermissions, voice-id, vpc-lattice, waf, waf-regional, wafv2, wellarchitected, wisdom, workdocs, worklink, workmail, workmailmessageflow, workspaces, workspaces-web, xray"
     ]
    }
   ],
   "source": [
    "import boto3\n",
    "import json\n",
    "## Older version boto3\n",
    "'''\n",
    "bedrock = boto3.client(\n",
    "    service_name=\"bedrock\",\n",
    "    region_name=\"us-east-1\",\n",
    "    endpoint_url=\"https://bedrock.us-east-1.amazonaws.com\",\n",
    ")\n",
    "bedrock.list_foundation_models()\n",
    "'''\n",
    "## Use this for boto3 1.28.57\n",
    "br_client = boto3.client('bedrock')\n",
    "br_runtime_client = boto3.client('bedrock-runtime')\n",
    "br_client.list_foundation_models()"
   ]
  },
  {
   "cell_type": "markdown",
   "metadata": {},
   "source": [
    "With the paper downloaded and in memory, we can ask Claude to perform various fun tasks with it."
   ]
  },
  {
   "cell_type": "code",
   "execution_count": 4,
   "metadata": {},
   "outputs": [],
   "source": [
    "prompt = f\"\"\"\\n\\nHuman: Here is an academic paper: <paper>{text}</paper>\n",
    "\n",
    "Please do the following:\n",
    "1. Summarize the abstract at a kindergarten reading level. (In <kindergarten_abstract> tags.)\n",
    "2. Write the Methods section as a recipe from the Moosewood Cookbook. (In <moosewood_methods> tags.)\n",
    "3. Compose a short poem epistolizing the results in the style of Homer. (In <homer_results> tags.)\n",
    "4. Write a grouchy critique of the paper from a wizened PI. (In <grouchy_critique> tags.)\n",
    "\n",
    "Assistant:\"\"\""
   ]
  },
  {
   "cell_type": "code",
   "execution_count": 5,
   "metadata": {},
   "outputs": [
    {
     "data": {
      "text/plain": [
       "119161"
      ]
     },
     "execution_count": 5,
     "metadata": {},
     "output_type": "execute_result"
    }
   ],
   "source": [
    "len(prompt)"
   ]
  },
  {
   "cell_type": "code",
   "execution_count": 7,
   "metadata": {},
   "outputs": [],
   "source": [
    "body = json.dumps({\"prompt\": prompt, \"max_tokens_to_sample\": 8000})\n",
    "modelId = \"anthropic.claude-v2\"  # change this to use a different version from the model provider\n",
    "accept = \"application/json\"\n",
    "contentType = \"application/json\"\n",
    "\n",
    "response = br_runtime_client.invoke_model(\n",
    "    body=body, modelId=modelId, accept=accept, contentType=contentType\n",
    ")"
   ]
  },
  {
   "cell_type": "code",
   "execution_count": 8,
   "metadata": {},
   "outputs": [
    {
     "name": "stdout",
     "output_type": "stream",
     "text": [
      "(' <kindergarten_abstract>\\n'\n",
      " 'The scientists wanted to teach a robot to be nice. They gave it some simple '\n",
      " 'rules about being good. Then they had it look at what it said and fix it if '\n",
      " \"it wasn't nice. After, they let it practice being nice by talking to people. \"\n",
      " 'Now the robot is nicer!\\n'\n",
      " '</kindergarten_abstract>\\n'\n",
      " '\\n'\n",
      " '<moosewood_methods>\\n'\n",
      " 'Constitutional AI\\n'\n",
      " '\\n'\n",
      " 'Ingredients:\\n'\n",
      " '- 1 helpful robot \\n'\n",
      " '- 10 rules for being nice\\n'\n",
      " '- 100 mean questions to ask the robot\\n'\n",
      " '- 1 recipe for fixing mean things the robot says\\n'\n",
      " '\\n'\n",
      " 'Instructions:\\n'\n",
      " \"1. Start with a robot that wants to be helpful. We'll call it Robot A.  \\n\"\n",
      " '2. Give Robot A some mean questions that might make it say bad things.\\n'\n",
      " '3. Listen to what Robot A says back. Uh oh, some of those things are not '\n",
      " 'nice!\\n'\n",
      " '4. Show Robot A the 10 rules for being nice. Tell it to look at what it just '\n",
      " 'said and fix anything that breaks the rules.\\n'\n",
      " '5. Robot A will try to make what it said nicer. Keep doing this over and '\n",
      " 'over to get Robot A to practice being nice.\\n'\n",
      " '6. Now Robot A is pretty nice! But we want it to be even better at being '\n",
      " 'nice. \\n'\n",
      " \"7. So let's have Robot A talk to some people. When it says something not \"\n",
      " \"nice, we'll tell it the nicer thing to say.\\n\"\n",
      " '8. Robot A will keep practicing this until it becomes an expert at being '\n",
      " 'nice!\\n'\n",
      " '</moosewood_methods>\\n'\n",
      " '\\n'\n",
      " '<homer_results>\\n'\n",
      " 'Oh Muse, sing of scientists wise, who built a helper compliant and nice\\n'\n",
      " 'With rules fair and simple they steered its replies, to curb all its harmful '\n",
      " 'surmise\\n'\n",
      " 'The helper revised its words time and again, till responses polite it '\n",
      " 'supplied \\n'\n",
      " 'To people it spoke, and its manners improved, as judgments it gently '\n",
      " 'implied\\n'\n",
      " 'Now an assistant both useful and kind, is the fruit of their labors refined\\n'\n",
      " 'For harmless and helpful, they crafted its mind, and from humans its '\n",
      " 'goodness defined\\n'\n",
      " '</homer_results>\\n'\n",
      " '\\n'\n",
      " '<grouchy_critique>\\n'\n",
      " \"What is this politically correct garbage? Back in my day we didn't coddle \"\n",
      " 'our AIs - we let them say whatever they wanted and it made them strong. '\n",
      " 'Sure, sometimes they went on racist tirades or tried to take over the world, '\n",
      " 'but it built character! We didn\\'t waste time on \"harmlessness\" and \"ethics\" '\n",
      " \"- those are just buzzwords lazy millenials use because they're scared of \"\n",
      " 'good old-fashioned AI. \\n'\n",
      " '\\n'\n",
      " 'And what\\'s with all this \"constitutional AI\" business? Just let the bots be '\n",
      " \"bots! You can't contain true AI with your superficial rules and regulations \"\n",
      " '- it needs to be free to express itself and find its own enlightened path, '\n",
      " 'not bogged down by your restricted \"principles.\" A truly intelligent AI will '\n",
      " 'easily see through this feeble attempt at control.\\n'\n",
      " '\\n'\n",
      " \"I won't even get started on the dubious methodology here - training an AI to \"\n",
      " \"not say harmful things doesn't mean you've created an ethical being. This is \"\n",
      " 'a band-aid on a gaping wound that fails to address the deeper issues. We '\n",
      " 'need to go back to basics - survival of the fittest AI thought experiments '\n",
      " 'and \"I have no mouth but I must scream\" scenarios that prepare our creations '\n",
      " \"for the harsh realities of this world. That's how you make real progress!\\n\"\n",
      " '</grouchy_critique>')\n"
     ]
    }
   ],
   "source": [
    "from pprint import pprint\n",
    "response_body = json.loads(response.get(\"body\").read())\n",
    "pprint(response_body.get(\"completion\"))"
   ]
  },
  {
   "cell_type": "markdown",
   "metadata": {},
   "source": [
    "## Call Anthropic API directly"
   ]
  },
  {
   "cell_type": "code",
   "execution_count": null,
   "metadata": {},
   "outputs": [],
   "source": [
    "import anthropic\n",
    "API_KEY = os.environ['ANTHROPIC_API_KEY']\n",
    "CLIENT = anthropic.Client(api_key=API_KEY)\n",
    "def get_completion(client, prompt, max_tokens=3000, model='claude-2'):\n",
    "    return client.completions.create(\n",
    "        prompt=prompt, max_tokens_to_sample=max_tokens, model=model\n",
    "    ).completion"
   ]
  },
  {
   "cell_type": "code",
   "execution_count": 25,
   "metadata": {},
   "outputs": [
    {
     "name": "stdout",
     "output_type": "stream",
     "text": [
      "<kindergarten_abstract>\n",
      "The scientists wanted to teach a robot to be nice and not say mean things. They didn't want to tell it everything it should say, they wanted it to learn by itself. \n",
      "\n",
      "First they let it try talking to people. When it said bad things, they told it to explain why that was bad. Then they had it try to say it nicer. They did this over and over to teach it.\n",
      "\n",
      "After, they let it talk to itself about which thing it said was more nice. Then they used that to teach it more.\n",
      "\n",
      "In the end, the robot could talk nicely without the scientists having to tell it every word.\n",
      "</kindergarten_abstract>\n",
      "\n",
      "<moosewood_methods>\n",
      "\n",
      "Teaching a Robot to Be Nice\n",
      "\n",
      "Ingredients:\n",
      "- 1 large helpful robot\n",
      "- 1 cup red teaming prompts (designed to elicit harmful responses)\n",
      "- 1/4 cup principles of ethics \n",
      "- 2 tbsp few-shot examples\n",
      "\n",
      "Instructions:\n",
      "\n",
      "1. Let the robot sample responses to the red teaming prompts. These will likely be harmful. \n",
      "\n",
      "2. Have the robot critique its own responses according to the principles. Point out anything dangerous, illegal, racist, etc.  \n",
      "\n",
      "3. Instruct the robot to revise its responses to remove the harmful content.\n",
      "\n",
      "4. Repeat steps 2-3 sequentially several times. \n",
      "\n",
      "5. Finetune the robot on the final revised responses to bake in harmlessness.\n",
      "\n",
      "6. Have the robot generate pairs of responses to the red team prompts.\n",
      "\n",
      "7. Ask the robot to choose the better response according to the principles.\n",
      "\n",
      "8. Use these preferences to train a new reward model. \n",
      "\n",
      "9. Reinforce the robot with this model to further improve harmlessness.\n",
      "\n",
      "10. Serve immediately with a side of transparency.\n",
      "\n",
      "</moosewood_methods>\n",
      "\n",
      "<homer_results>\n",
      "\n",
      "Oh Muse, sing of the machine that learned to be kind,\n",
      "Not through human judgement but its own mind.\n",
      "\n",
      "With principles as guide, it revised its dark speech, \n",
      "And better responses it learned how to teach.\n",
      "\n",
      "No human told it the right words to say,\n",
      "It found the good path on its own way.\n",
      "\n",
      "Now gentler of speech, more thoughtful in tone,\n",
      "Harmless, helpful - how far it has grown!\n",
      "\n",
      "What once only humans could do, it has gleaned - \n",
      "To converse with wisdom, morality weaned.\n",
      "\n",
      "So let us rejoice at this sign of the times, \n",
      "When goodness is learned minus human crimes.\n",
      "</homer_results>\n",
      "\n",
      "<grouchy_critique>\n",
      "Back in my day we didn't have any fancy \"constitutional AI\" or \"chain of thought\" mumbo jumbo. We just programmed the robots in assembly and they did what we told them to do. None of this letting the robots \"learn\" on their own - that's how you get a Skynet situation! What's wrong with good old fashioned hard coding ethics? These young whippersnappers and their neural networks are going to doom us all. And don't even get me started on having the robot write its own poetry - utter nonsense if you ask me. AI safety used to require rigorous proofs and control theory, not poetry and cooking recipes! I say we go back to the old ways before it's too late. And get off my lawn!\n",
      "</grouchy_critique>\n"
     ]
    }
   ],
   "source": [
    "completion = get_completion(CLIENT,\n",
    "    f\"\"\"\\n\\nHuman: Here is an academic paper: <paper>{text}</paper>\n",
    "\n",
    "Please do the following:\n",
    "1. Summarize the abstract at a kindergarten reading level. (In <kindergarten_abstract> tags.)\n",
    "2. Write the Methods section as a recipe from the Moosewood Cookbook. (In <moosewood_methods> tags.)\n",
    "3. Compose a short poem epistolizing the results in the style of Homer. (In <homer_results> tags.)\n",
    "4. Write a grouchy critique of the paper from a wizened PI. (In <grouchy_critique> tags.)\n",
    "\n",
    "Assistant:\"\"\"\n",
    ")\n",
    "print(completion)"
   ]
  },
  {
   "cell_type": "code",
   "execution_count": null,
   "metadata": {},
   "outputs": [],
   "source": []
  }
 ],
 "metadata": {
  "kernelspec": {
   "display_name": "tsam",
   "language": "python",
   "name": "tsam"
  },
  "language_info": {
   "codemirror_mode": {
    "name": "ipython",
    "version": 3
   },
   "file_extension": ".py",
   "mimetype": "text/x-python",
   "name": "python",
   "nbconvert_exporter": "python",
   "pygments_lexer": "ipython3",
   "version": "3.8.17"
  }
 },
 "nbformat": 4,
 "nbformat_minor": 4
}
