{
 "cells": [
  {
   "cell_type": "markdown",
   "metadata": {},
   "source": [
    "## Module 9: Clean up access control in AWS Lake Formation\n",
    "\n",
    "In this noteboook, we will show you how to clean up the access control in Lake Formation.The steps will be performed by AWS Lake Formation admin."
   ]
  },
  {
   "cell_type": "markdown",
   "metadata": {},
   "source": [
    "### Lake Formation Admin User"
   ]
  },
  {
   "cell_type": "markdown",
   "metadata": {},
   "source": [
    "In order to perform the clean up steps, you need to sign in as the **Lake Formation Admin user** you used in notebook *m9_nb0_row_cell_level_access_lf_setup.ipynb*. Detailed instructions can be found here https://docs.aws.amazon.com/lake-formation/latest/dg/getting-started-setup.html#create-data-lake-adminl."
   ]
  },
  {
   "cell_type": "markdown",
   "metadata": {},
   "source": [
    "\n",
    "1. Delete feature groups (tables) and features (columns) permissions \n",
    "2. delete the required data filters for fined grained access control\n",
    "3. Deregister the Offline Feature Store in Lake Formation.\n"
   ]
  },
  {
   "cell_type": "markdown",
   "metadata": {},
   "source": [
    "### 1) Revoke feature groups (tables) and features (columns) LF permissions"
   ]
  },
  {
   "cell_type": "markdown",
   "metadata": {},
   "source": [
    "In this section, you will remove the permissions that were granted to the SageMaker user."
   ]
  },
  {
   "cell_type": "code",
   "execution_count": null,
   "metadata": {},
   "outputs": [],
   "source": [
    "# Retrieve table/FG names (when running previous modules)\n",
    "%store -r customers_feature_group_name\n",
    "%store -r orders_feature_group_name\n",
    "%store -r products_feature_group_name\n",
    "\n",
    "print(customers_feature_group_name)\n",
    "print(orders_feature_group_name)\n",
    "print(products_feature_group_name)"
   ]
  },
  {
   "cell_type": "code",
   "execution_count": null,
   "metadata": {},
   "outputs": [],
   "source": [
    "# Retrieve the execution role\n",
    "# Add code to retrieve the S3Uri\n",
    "from sagemaker.feature_store.feature_group import FeatureGroup\n",
    "from sagemaker import get_execution_role\n",
    "import sagemaker\n",
    "\n",
    "sagemaker_session = sagemaker.Session()\n",
    "account_id = sagemaker_session.account_id()\n",
    "role = sagemaker.get_execution_role()\n",
    "role"
   ]
  },
  {
   "cell_type": "markdown",
   "metadata": {},
   "source": [
    "Repeat for each of the tables in Lake Formation (feature groups) that were granted access in `m9_nb0_row_cell_level_access_lf_setup.ipynb`: \n",
    "\n",
    "* In the navigation pane, under **Data Catalog**, choose **Tables**.\n",
    "* Select table with your `feature group name`.\n",
    "* Select **View permissions** under the **Actions** button, select `AmazonSageMaker-ExecutionRole-` (associated with your user) and click on **Revoke** button."
   ]
  },
  {
   "cell_type": "markdown",
   "metadata": {},
   "source": [
    "![Offline Feature Store Database](../../images/fs_lf_revoke_permissions.png \"Granular Access using Lake Formation\")"
   ]
  },
  {
   "cell_type": "markdown",
   "metadata": {},
   "source": [
    "### 2) Delete Lake Formation Data Filters"
   ]
  },
  {
   "cell_type": "markdown",
   "metadata": {},
   "source": [
    "Repeat for the two data filters **Cell Level Filter** and **Row Level Filter** created in `m9_nb0_row_cell_level_access_lf_setup.ipynb`: \n",
    "* In the navigation pane, under **Data Catalog**, choose **Data filters**\n",
    "* Select the data filter by clicking on the radio button\n",
    "* Click on **Delete** button\n"
   ]
  },
  {
   "cell_type": "markdown",
   "metadata": {},
   "source": [
    "![Offline Feature Store Database](../../images/fs_lf_create_data_filter_3.png \"Granular Access using Lake Formation\")"
   ]
  },
  {
   "cell_type": "markdown",
   "metadata": {},
   "source": [
    "![Offline Feature Store Database](../../images/fs_lf_delete_data_filter.png \"Granular Access using Lake Formation\")"
   ]
  },
  {
   "cell_type": "markdown",
   "metadata": {},
   "source": [
    "### 3) Deregister Amazon SageMaker Offline Feature Store in Lake Formation"
   ]
  },
  {
   "cell_type": "markdown",
   "metadata": {},
   "source": [
    "In order to deregister the Amazon S3 location of SageMaker Offline Feature Store, follow the steps:\n",
    "\n",
    "* In the navigation pane, under **Register and Ingest**, choose **Data lake locations**.\n",
    "* Select the location of the offline feature store in Amazon S3 (which was used in `m9_nb0_row_cell_level_access_lf_setup.ipynb`)\n",
    "* Click on **Remove** under **Actions** menu.  "
   ]
  },
  {
   "cell_type": "markdown",
   "metadata": {},
   "source": [
    "![Offline Feature Store Database](../../images/fs_lf_deregister.png \"Granular Access using Lake Formation\")"
   ]
  },
  {
   "cell_type": "markdown",
   "metadata": {},
   "source": [
    "To revert back to using IAM instead of the Lake Formation permissions for your Feature Store database and tables, you can add the Super permission back to the **IAMAllowedPrincipals** group on the database in Lake Formation.\n",
    "\n",
    "* In the navigation pane, under **Data Catalog**, choose **Databases**.\n",
    "* Select database **sagemaker_featurestore**, which is the database associated to the offline feature store.\n",
    "* On the **Actions** menu, choose **Edit**.\n",
    "* On the *Edit database* page, if you want to use only IAM access control for new tables in this database then you can select **Use only IAM access control for new tables in this database**, and then choose **Save**.\n",
    "* Back on the **Databases** page, ensure that the sagemaker_featurestore database is still selected, and select **View permissions** \n"
   ]
  },
  {
   "cell_type": "markdown",
   "metadata": {},
   "source": [
    "![Offline Feature Store Database](../../images/fs_lf_database.png \"Granular Access using Lake Formation\")"
   ]
  },
  {
   "cell_type": "markdown",
   "metadata": {},
   "source": [
    "* Click **Grant** and search for **IAMAllowedPrincipals** in the **IAM users and roles**\n",
    "* select **Named data catalog resources** and select the Database (Offline Feature Store)to be granted IAMAllowedPrincipals role\n",
    "* Then grant the appropriate permissions (e.g. Super) on the Database and click **Grant**."
   ]
  },
  {
   "cell_type": "markdown",
   "metadata": {},
   "source": [
    "Repeat this for the individual tables in the Offline Feature Store:\n",
    "\n",
    "* Click **Grant** and search for **IAMAllowedPrincipals** in the **IAM users and roles**\n",
    "* select **Named data catalog resources** and select the Database (Offline Feature Store), as well as the Tables (`fscw-customers-[]`,`fscw-products-[]`, `fscw-orders-[]`) to be granted IAMAllowedPrincipals role\n",
    "* Then grant the appropriate permissions (e.g. Super) on the Tables and click **Grant**."
   ]
  },
  {
   "cell_type": "markdown",
   "metadata": {},
   "source": [
    "![Offline Feature Store Database](../../images/fs_lf_grant_iamallowedprincipals_1.png \"Granular Access using Lake Formation\")"
   ]
  },
  {
   "cell_type": "markdown",
   "metadata": {},
   "source": [
    "![Offline Feature Store Database](../../images/fs_lf_grant_iamallowedprincipals_2.png \"Granular Access using Lake Formation\")"
   ]
  },
  {
   "cell_type": "markdown",
   "metadata": {},
   "source": [
    "![Offline Feature Store Database](../../images/fs_lf_grant_iamallowedprincipals_3.png \"Granular Access using Lake Formation\")"
   ]
  },
  {
   "cell_type": "markdown",
   "metadata": {},
   "source": [
    "### 3) Clean the permissions and policies associated to your SageMaker Execution role"
   ]
  },
  {
   "cell_type": "markdown",
   "metadata": {},
   "source": [
    "Remove the permissions added in `m9_nb0_row_cell_level_access_lf_setup.ipynb`"
   ]
  },
  {
   "cell_type": "markdown",
   "metadata": {},
   "source": [
    "```\n",
    "{\n",
    "    \"Version\": \"2012-10-17\",\n",
    "    \"Statement\": [\n",
    "    {\n",
    "        \"Sid\": \"LakeFormationDataAccess\",\n",
    "        \"Effect\": \"Allow\",\n",
    "        \"Action\": [\n",
    "            \"lakeformation:GetDataAccess\",\n",
    "            \"lakeformation:StartQueryPlanning\",\n",
    "            \"lakeformation:GetQueryState\",\n",
    "            \"lakeformation:GetWorkUnits\",\n",
    "            \"lakeformation:GetWorkUnitResults\",\n",
    "            \"glue:GetTables\",\n",
    "            \"glue:GetDatabases\"\n",
    "        ],\n",
    "        \"Resource\": \"*\"\n",
    "    }\n",
    "    ]\n",
    "}\n",
    "```"
   ]
  },
  {
   "cell_type": "markdown",
   "metadata": {},
   "source": [
    "## Clean up - End"
   ]
  }
 ],
 "metadata": {
  "celltoolbar": "Tags",
  "instance_type": "ml.t3.medium",
  "kernelspec": {
   "display_name": "Python 3 (Data Science)",
   "language": "python",
   "name": "python3__SAGEMAKER_INTERNAL__arn:aws:sagemaker:us-east-1:081325390199:image/datascience-1.0"
  },
  "language_info": {
   "codemirror_mode": {
    "name": "ipython",
    "version": 3
   },
   "file_extension": ".py",
   "mimetype": "text/x-python",
   "name": "python",
   "nbconvert_exporter": "python",
   "pygments_lexer": "ipython3",
   "version": "3.7.10"
  },
  "notice": "Copyright 2017 Amazon.com, Inc. or its affiliates. All Rights Reserved.  Licensed under the Apache License, Version 2.0 (the \"License\"). You may not use this file except in compliance with the License. A copy of the License is located at http://aws.amazon.com/apache2.0/ or in the \"license\" file accompanying this file. This file is distributed on an \"AS IS\" BASIS, WITHOUT WARRANTIES OR CONDITIONS OF ANY KIND, either express or implied. See the License for the specific language governing permissions and limitations under the License."
 },
 "nbformat": 4,
 "nbformat_minor": 4
}
